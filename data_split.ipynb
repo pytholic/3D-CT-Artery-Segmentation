{
 "cells": [
  {
   "cell_type": "code",
   "execution_count": 1,
   "id": "9e27b245",
   "metadata": {
    "scrolled": true
   },
   "outputs": [],
   "source": [
    "import splitfolders"
   ]
  },
  {
   "cell_type": "code",
   "execution_count": 2,
   "id": "2b8f5883",
   "metadata": {},
   "outputs": [
    {
     "name": "stderr",
     "output_type": "stream",
     "text": [
      "Copying files: 88 files [00:19,  4.46 files/s] \n"
     ]
    }
   ],
   "source": [
    "splitfolders.ratio('/media/trojan/evo/3D-CT-Artery-Segmentation/data/data_new/data_original/train', output='/media/trojan/evo/3D-CT-Artery-Segmentation/data/data_new/data_splitted', seed=1, ratio=(0.85, 0.15)) "
   ]
  },
  {
   "cell_type": "code",
   "execution_count": 3,
   "id": "f65f66fa",
   "metadata": {},
   "outputs": [],
   "source": [
    "# Loop way\n",
    "\n",
    "import os\n",
    "train_dir = '/media/trojan/evo/3D-CT-Artery-Segmentation/data/data_new/data_splitted/train'\n",
    "volumes_dir = os.path.join(train_dir, 'volumes')\n",
    "masks_dir = os.path.join(train_dir, 'masks')\n",
    "\n",
    "volumes_list = sorted(os.listdir(volumes_dir))\n",
    "masks_list = sorted(os.listdir(masks_dir))"
   ]
  },
  {
   "cell_type": "code",
   "execution_count": 4,
   "id": "08ff4d36",
   "metadata": {},
   "outputs": [
    {
     "name": "stdout",
     "output_type": "stream",
     "text": [
      "0\n"
     ]
    }
   ],
   "source": [
    "# Verify\n",
    "count = 0\n",
    "count = sum([count+1 for i in range(0, len(volumes_list)) if volumes_list[i] != masks_list[i]])\n",
    "print(count)"
   ]
  },
  {
   "cell_type": "code",
   "execution_count": null,
   "id": "13df2179",
   "metadata": {},
   "outputs": [],
   "source": []
  }
 ],
 "metadata": {
  "kernelspec": {
   "display_name": "Python 3 (ipykernel)",
   "language": "python",
   "name": "python3"
  },
  "language_info": {
   "codemirror_mode": {
    "name": "ipython",
    "version": 3
   },
   "file_extension": ".py",
   "mimetype": "text/x-python",
   "name": "python",
   "nbconvert_exporter": "python",
   "pygments_lexer": "ipython3",
   "version": "3.10.4"
  }
 },
 "nbformat": 4,
 "nbformat_minor": 5
}
