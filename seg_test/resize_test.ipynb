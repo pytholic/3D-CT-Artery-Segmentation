{
 "cells": [
  {
   "cell_type": "code",
   "execution_count": 95,
   "id": "c2cc5ea2",
   "metadata": {},
   "outputs": [],
   "source": [
    "import os, glob\n",
    "import nibabel as nib\n",
    "import torchio as tio\n",
    "import numpy as np\n",
    "from PIL import Image\n",
    "from skimage.transform import resize, rescale"
   ]
  },
  {
   "cell_type": "code",
   "execution_count": 96,
   "id": "bb7da02c",
   "metadata": {},
   "outputs": [],
   "source": [
    "label_path = '7_spacing.nii.gz'"
   ]
  },
  {
   "cell_type": "code",
   "execution_count": null,
   "id": "37784b7e",
   "metadata": {},
   "outputs": [],
   "source": [
    "#############################################"
   ]
  },
  {
   "cell_type": "code",
   "execution_count": null,
   "id": "0bea1b63",
   "metadata": {},
   "outputs": [],
   "source": [
    "label = tio.LabelMap(label_path)\n",
    "print(label.shape)\n",
    "print(np.unique(label, return_counts=True))"
   ]
  },
  {
   "cell_type": "code",
   "execution_count": null,
   "id": "20c2efcc",
   "metadata": {},
   "outputs": [],
   "source": [
    "transform_resize = tio.Resize(target_shape=(128,128,512))"
   ]
  },
  {
   "cell_type": "code",
   "execution_count": null,
   "id": "7f905a9e",
   "metadata": {},
   "outputs": [],
   "source": [
    "output = transform_resize(subject)\n",
    "print(output.shape)\n",
    "print(np.unique(output, return_counts=True))"
   ]
  },
  {
   "cell_type": "code",
   "execution_count": null,
   "id": "8df0b6da",
   "metadata": {},
   "outputs": [],
   "source": [
    "output.save('7_resize_tio.nii.gz')"
   ]
  },
  {
   "cell_type": "code",
   "execution_count": null,
   "id": "64181a4b",
   "metadata": {},
   "outputs": [],
   "source": [
    "#############################################"
   ]
  },
  {
   "cell_type": "code",
   "execution_count": 87,
   "id": "c54de6ad",
   "metadata": {},
   "outputs": [],
   "source": [
    "def read_nifti_file(filepath):\n",
    "    \"\"\"Read and load volume\"\"\"\n",
    "    # Read file\n",
    "    scan = nib.load(filepath)\n",
    "    # Get raw data\n",
    "    scan = scan.get_fdata()\n",
    "    return scan"
   ]
  },
  {
   "cell_type": "code",
   "execution_count": 88,
   "id": "2af703fb",
   "metadata": {
    "scrolled": true
   },
   "outputs": [
    {
     "name": "stdout",
     "output_type": "stream",
     "text": [
      "(553, 553, 482)\n",
      "(array([0., 1., 2.]), array([147376847,     15948,      7143]))\n"
     ]
    }
   ],
   "source": [
    "label = read_nifti_file(label_path)\n",
    "print(label.shape)\n",
    "print(np.unique(label, return_counts=True))"
   ]
  },
  {
   "cell_type": "code",
   "execution_count": 89,
   "id": "d16b4e0c",
   "metadata": {},
   "outputs": [
    {
     "name": "stdout",
     "output_type": "stream",
     "text": [
      "(256, 256, 512)\n",
      "(array([0., 1., 2.]), array([33549155,     3711,     1566]))\n"
     ]
    }
   ],
   "source": [
    "result = resize(label, (128,128,512), order=0, preserve_range=True, anti_aliasing=False)\n",
    "print(result.shape)\n",
    "print(np.unique(result, return_counts=True))"
   ]
  },
  {
   "cell_type": "code",
   "execution_count": 90,
   "id": "e016494a",
   "metadata": {},
   "outputs": [],
   "source": [
    "result = nib.Nifti1Image(result, np.eye(4))\n",
    "nib.save(result, '7_resize_skimage.nii.gz')"
   ]
  },
  {
   "cell_type": "code",
   "execution_count": null,
   "id": "4aacb523",
   "metadata": {},
   "outputs": [],
   "source": []
  },
  {
   "cell_type": "code",
   "execution_count": null,
   "id": "7265a046",
   "metadata": {},
   "outputs": [],
   "source": []
  },
  {
   "cell_type": "code",
   "execution_count": null,
   "id": "64178ae4",
   "metadata": {},
   "outputs": [],
   "source": []
  },
  {
   "cell_type": "code",
   "execution_count": null,
   "id": "f54c7ea2",
   "metadata": {},
   "outputs": [],
   "source": []
  },
  {
   "cell_type": "code",
   "execution_count": null,
   "id": "c415b794",
   "metadata": {},
   "outputs": [],
   "source": []
  },
  {
   "cell_type": "code",
   "execution_count": 91,
   "id": "5448f7c8",
   "metadata": {},
   "outputs": [
    {
     "name": "stdout",
     "output_type": "stream",
     "text": [
      "(256, 256, 512)\n"
     ]
    }
   ],
   "source": [
    "# Interpolate to 512x512x512\n",
    "label_resized = read_nifti_file('7_skimage_resize.nii.gz')\n",
    "print(label_resized.shape)"
   ]
  },
  {
   "cell_type": "code",
   "execution_count": 93,
   "id": "9169ab55",
   "metadata": {},
   "outputs": [
    {
     "name": "stdout",
     "output_type": "stream",
     "text": [
      "(512, 512, 512)\n",
      "(array([0., 1., 2.]), array([134196620,     14844,      6264]))\n"
     ]
    }
   ],
   "source": [
    "interpolated = resize(label_resized, (512,512,512), order=0, preserve_range=True, anti_aliasing=False)\n",
    "print(interpolated.shape)\n",
    "print(np.unique(interpolated, return_counts=True))"
   ]
  },
  {
   "cell_type": "code",
   "execution_count": 94,
   "id": "3e128781",
   "metadata": {},
   "outputs": [],
   "source": [
    "interpolated = nib.Nifti1Image(interpolated, np.eye(4))\n",
    "nib.save(interpolated, '7_skimage_interpolated.nii.gz')"
   ]
  },
  {
   "cell_type": "code",
   "execution_count": null,
   "id": "20079447",
   "metadata": {},
   "outputs": [],
   "source": []
  }
 ],
 "metadata": {
  "kernelspec": {
   "display_name": "Python 3 (ipykernel)",
   "language": "python",
   "name": "python3"
  },
  "language_info": {
   "codemirror_mode": {
    "name": "ipython",
    "version": 3
   },
   "file_extension": ".py",
   "mimetype": "text/x-python",
   "name": "python",
   "nbconvert_exporter": "python",
   "pygments_lexer": "ipython3",
   "version": "3.10.4"
  }
 },
 "nbformat": 4,
 "nbformat_minor": 5
}
