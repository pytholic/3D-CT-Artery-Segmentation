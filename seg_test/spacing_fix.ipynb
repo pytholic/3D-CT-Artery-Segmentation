{
 "cells": [
  {
   "cell_type": "code",
   "execution_count": 1,
   "id": "7b1c3deb",
   "metadata": {},
   "outputs": [],
   "source": [
    "import os, glob\n",
    "import torchio as tio"
   ]
  },
  {
   "cell_type": "code",
   "execution_count": 2,
   "id": "181fb8fd",
   "metadata": {},
   "outputs": [],
   "source": [
    "label_path = '7_skimage_interpolated.nii.gz'"
   ]
  },
  {
   "cell_type": "code",
   "execution_count": 3,
   "id": "fa86955c",
   "metadata": {},
   "outputs": [
    {
     "name": "stdout",
     "output_type": "stream",
     "text": [
      "(1.0, 1.0, 1.0)\n"
     ]
    }
   ],
   "source": [
    "label = tio.LabelMap(label_path)\n",
    "print(label.spacing)\n"
   ]
  },
  {
   "cell_type": "code",
   "execution_count": 4,
   "id": "e69a74f0",
   "metadata": {},
   "outputs": [
    {
     "name": "stdout",
     "output_type": "stream",
     "text": [
      "(0.4, 0.4, 0.5)\n"
     ]
    }
   ],
   "source": [
    "transform = tio.Resample(target=(0.4,0.4,0.5))\n",
    "output = transform(label)\n",
    "print(output.spacing)"
   ]
  },
  {
   "cell_type": "code",
   "execution_count": null,
   "id": "24401c9d",
   "metadata": {},
   "outputs": [],
   "source": [
    "output.save('7_test.nii.gz')"
   ]
  },
  {
   "cell_type": "code",
   "execution_count": null,
   "id": "a5db30e5",
   "metadata": {},
   "outputs": [],
   "source": []
  }
 ],
 "metadata": {
  "kernelspec": {
   "display_name": "Python 3 (ipykernel)",
   "language": "python",
   "name": "python3"
  },
  "language_info": {
   "codemirror_mode": {
    "name": "ipython",
    "version": 3
   },
   "file_extension": ".py",
   "mimetype": "text/x-python",
   "name": "python",
   "nbconvert_exporter": "python",
   "pygments_lexer": "ipython3",
   "version": "3.10.4"
  }
 },
 "nbformat": 4,
 "nbformat_minor": 5
}
