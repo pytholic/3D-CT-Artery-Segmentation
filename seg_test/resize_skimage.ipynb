{
 "cells": [
  {
   "cell_type": "code",
   "execution_count": 113,
   "id": "c2cc5ea2",
   "metadata": {},
   "outputs": [],
   "source": [
    "import os, glob\n",
    "import nibabel as nib\n",
    "import skimage.transform as sktrans\n",
    "import numpy as np"
   ]
  },
  {
   "cell_type": "code",
   "execution_count": 104,
   "id": "bb7da02c",
   "metadata": {},
   "outputs": [],
   "source": [
    "label_path = '7_spacing.nii.gz'"
   ]
  },
  {
   "cell_type": "code",
   "execution_count": 114,
   "id": "c54de6ad",
   "metadata": {},
   "outputs": [],
   "source": [
    "def read_nifti_file(filepath):\n",
    "    \"\"\"Read and load volume\"\"\"\n",
    "    # Read file\n",
    "    scan = nib.load(filepath)\n",
    "    # Get raw data\n",
    "    scan = scan.get_fdata()\n",
    "    return scan"
   ]
  },
  {
   "cell_type": "code",
   "execution_count": 106,
   "id": "46a682c9",
   "metadata": {
    "scrolled": false
   },
   "outputs": [
    {
     "name": "stdout",
     "output_type": "stream",
     "text": [
      "(553, 553, 482)\n",
      "(array([0., 1., 2.]), array([147376847,     15948,      7143]))\n"
     ]
    }
   ],
   "source": [
    "label = read_nifti_file(label_path)\n",
    "print(label.shape)\n",
    "print(np.unique(label, return_counts=True))"
   ]
  },
  {
   "cell_type": "code",
   "execution_count": 107,
   "id": "1931ffba",
   "metadata": {},
   "outputs": [
    {
     "name": "stdout",
     "output_type": "stream",
     "text": [
      "(128, 128, 512)\n",
      "(array([0., 1., 2.]), array([8387247,     929,     432]))\n"
     ]
    }
   ],
   "source": [
    "# Resize to 128x128x512\n",
    "result = sktrans.resize(label, (128,128,512), order=0, preserve_range=True, anti_aliasing=False)\n",
    "print(result.shape)\n",
    "print(np.unique(result, return_counts=True))"
   ]
  },
  {
   "cell_type": "code",
   "execution_count": 108,
   "id": "8a1ac1c3",
   "metadata": {},
   "outputs": [],
   "source": [
    "result = nib.Nifti1Image(result, np.eye(4))\n",
    "nib.save(result, '7_skimage_resize.nii.gz')"
   ]
  },
  {
   "cell_type": "code",
   "execution_count": 100,
   "id": "4ab5ef77",
   "metadata": {},
   "outputs": [
    {
     "name": "stdout",
     "output_type": "stream",
     "text": [
      "(128, 128, 512)\n"
     ]
    }
   ],
   "source": [
    "# Interpolate to 512x512x512\n",
    "label_resized = read_nifti_file('7_skimage_resize.nii.gz')\n",
    "print(label_resized.shape)"
   ]
  },
  {
   "cell_type": "code",
   "execution_count": 101,
   "id": "4ab7a530",
   "metadata": {},
   "outputs": [
    {
     "name": "stdout",
     "output_type": "stream",
     "text": [
      "(512, 512, 512)\n",
      "(array([0.00000000e+00, 1.09740712e-09, 2.19481423e-09, ...,\n",
      "       1.73344286e+00, 1.76889815e+00, 1.78439543e+00]), array([133963472,      3936,      1424, ...,        16,        16,\n",
      "              16]))\n"
     ]
    }
   ],
   "source": [
    "interpolated = sktrans.resize(label_resized, (512,512,512), order=0, preserve_range=True, anti_aliasing=False)\n",
    "print(interpolated.shape)\n",
    "print(np.unique(interpolated, return_counts=True))"
   ]
  },
  {
   "cell_type": "code",
   "execution_count": 102,
   "id": "386b07e3",
   "metadata": {},
   "outputs": [],
   "source": [
    "interpolated = nib.Nifti1Image(interpolated, np.eye(4))\n",
    "nib.save(interpolated, '7_skimage_interpolated.nii.gz')"
   ]
  }
 ],
 "metadata": {
  "kernelspec": {
   "display_name": "Python 3 (ipykernel)",
   "language": "python",
   "name": "python3"
  },
  "language_info": {
   "codemirror_mode": {
    "name": "ipython",
    "version": 3
   },
   "file_extension": ".py",
   "mimetype": "text/x-python",
   "name": "python",
   "nbconvert_exporter": "python",
   "pygments_lexer": "ipython3",
   "version": "3.10.4"
  }
 },
 "nbformat": 4,
 "nbformat_minor": 5
}
