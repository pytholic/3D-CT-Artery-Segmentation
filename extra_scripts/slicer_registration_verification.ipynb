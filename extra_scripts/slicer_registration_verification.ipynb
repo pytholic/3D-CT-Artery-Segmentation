{
 "cells": [
  {
   "cell_type": "code",
   "execution_count": 9,
   "id": "7a73ed46",
   "metadata": {},
   "outputs": [],
   "source": [
    "import glob, os\n",
    "import torchio as tio"
   ]
  },
  {
   "cell_type": "code",
   "execution_count": 17,
   "id": "6daea3b5",
   "metadata": {},
   "outputs": [],
   "source": [
    "filename = '6_3'"
   ]
  },
  {
   "cell_type": "code",
   "execution_count": 18,
   "id": "8e20f319",
   "metadata": {},
   "outputs": [],
   "source": [
    "vol = '/home/trojan/skia_projects/3D-CT-Artery-Segmentation/temp/{}_vol.nii.gz'.format(filename)\n",
    "mask = '/home/trojan/skia_projects/3D-CT-Artery-Segmentation/temp/{}_mask.nii.gz'.format(filename)\n",
    "mask_fixed = '/home/trojan/skia_projects/3D-CT-Artery-Segmentation/temp/{}_mask_fixed.nii.gz'.format(filename)"
   ]
  },
  {
   "cell_type": "code",
   "execution_count": 19,
   "id": "6bd9721a",
   "metadata": {},
   "outputs": [],
   "source": [
    "image = tio.ScalarImage(vol)\n",
    "label = tio.LabelMap(mask)\n",
    "label_fixed = tio.LabelMap(mask_fixed)"
   ]
  },
  {
   "cell_type": "code",
   "execution_count": 20,
   "id": "108d7925",
   "metadata": {},
   "outputs": [
    {
     "name": "stdout",
     "output_type": "stream",
     "text": [
      "(111.80000305175781, 274.79998779296875, 415.0)\n",
      "(111.80000305175781, 274.79998779296875, 415.0)\n",
      "(111.80000305175781, 274.79998779296875, 415.0)\n"
     ]
    }
   ],
   "source": [
    "print(image.origin)\n",
    "print(label.origin)\n",
    "print(label_fixed.origin)"
   ]
  },
  {
   "cell_type": "code",
   "execution_count": 21,
   "id": "c72efb90",
   "metadata": {},
   "outputs": [],
   "source": [
    "transform = tio.ToCanonical()\n",
    "out_image = transform(image)\n",
    "out_label = transform(label)\n",
    "out_label_fixed = transform(label_fixed)"
   ]
  },
  {
   "cell_type": "code",
   "execution_count": 22,
   "id": "5b53b8c1",
   "metadata": {},
   "outputs": [
    {
     "name": "stdout",
     "output_type": "stream",
     "text": [
      "(-119.80000039935112, 43.19998434185982, 415.0)\n",
      "(-117.8000003695488, 45.19998437166214, 415.0)\n",
      "(-119.80000039935112, 43.19998434185982, 415.0)\n"
     ]
    }
   ],
   "source": [
    "print(out_image.origin)\n",
    "print(out_label.origin)\n",
    "print(out_label_fixed.origin)"
   ]
  },
  {
   "cell_type": "code",
   "execution_count": null,
   "id": "453e860c",
   "metadata": {},
   "outputs": [],
   "source": [
    "### Write loop for whole data ###"
   ]
  },
  {
   "cell_type": "code",
   "execution_count": 23,
   "id": "77e04a6b",
   "metadata": {},
   "outputs": [],
   "source": [
    "DATA_DIR = '/home/trojan/skia_projects/3D-CT-Artery-Segmentation/temp'\n",
    "volumes_dir = os.path.join(DATA_DIR, 'volumes')\n",
    "masks_dir = os.path.join(DATA_DIR, 'masks')\n",
    "fixed_dir = os.path.join(DATA_DIR, 'fixed')"
   ]
  },
  {
   "cell_type": "code",
   "execution_count": 27,
   "id": "680579c0",
   "metadata": {},
   "outputs": [
    {
     "name": "stdout",
     "output_type": "stream",
     "text": [
      "6_3.nii.gz\n",
      "(111.80000305175781, 274.79998779296875, 415.0)\n",
      "(111.80000305175781, 274.79998779296875, 415.0)\n",
      "(111.80000305175781, 274.79998779296875, 415.0)\n",
      "\n",
      "\n",
      "6_42.nii.gz\n",
      "(111.80000305175781, 274.79998779296875, 415.0)\n",
      "(111.80000305175781, 274.79998779296875, 415.0)\n",
      "(111.80000305175781, 274.79998779296875, 415.0)\n",
      "\n",
      "\n",
      "6_41.nii.gz\n",
      "(111.80000305175781, 274.79998779296875, 415.0)\n",
      "(111.80000305175781, 274.79998779296875, 415.0)\n",
      "(111.80000305175781, 274.79998779296875, 415.0)\n",
      "\n",
      "\n",
      "6_21.nii.gz\n",
      "(111.80000305175781, 274.79998779296875, 415.0)\n",
      "(111.80000305175781, 274.79998779296875, 415.0)\n",
      "(111.80000305175781, 274.79998779296875, 415.0)\n",
      "\n",
      "\n",
      "6_46.nii.gz\n",
      "(111.80000305175781, 274.79998779296875, 415.0)\n",
      "(111.80000305175781, 274.79998779296875, 415.0)\n",
      "(111.80000305175781, 274.79998779296875, 415.0)\n",
      "\n",
      "\n"
     ]
    }
   ],
   "source": [
    "# Before Canonical\n",
    "for filename in os.listdir(volumes_dir):\n",
    "    image = tio.ScalarImage(os.path.join(volumes_dir, filename))\n",
    "    label = tio.LabelMap(os.path.join(masks_dir, filename))\n",
    "    label_fixed = tio.LabelMap(os.path.join(fixed_dir, filename))\n",
    "    print(filename)\n",
    "    print(image.origin)\n",
    "    print(label.origin)\n",
    "    print(label_fixed.origin)\n",
    "    print('\\n')"
   ]
  },
  {
   "cell_type": "code",
   "execution_count": 28,
   "id": "2229b9bb",
   "metadata": {},
   "outputs": [
    {
     "name": "stdout",
     "output_type": "stream",
     "text": [
      "6_3.nii.gz\n",
      "(-119.80000039935112, 43.19998434185982, 415.0)\n",
      "(-117.8000003695488, 45.19998437166214, 415.0)\n",
      "(-119.80000039935112, 43.19998434185982, 415.0)\n",
      "\n",
      "\n",
      "6_42.nii.gz\n",
      "(-119.80000039935112, 43.19998434185982, 415.0)\n",
      "(-117.8000003695488, 45.19998437166214, 415.0)\n",
      "(-119.80000039935112, 43.19998434185982, 415.0)\n",
      "\n",
      "\n",
      "6_41.nii.gz\n",
      "(-119.80000039935112, 43.19998434185982, 415.0)\n",
      "(-117.8000003695488, 45.19998437166214, 415.0)\n",
      "(-119.80000039935112, 43.19998434185982, 415.0)\n",
      "\n",
      "\n",
      "6_21.nii.gz\n",
      "(-119.80000039935112, 43.19998434185982, 415.0)\n",
      "(-117.8000003695488, 45.19998437166214, 415.0)\n",
      "(-119.80000039935112, 43.19998434185982, 415.0)\n",
      "\n",
      "\n",
      "6_46.nii.gz\n",
      "(-119.00000038743019, 43.99998435378075, 415.0)\n",
      "(-117.8000003695488, 45.19998437166214, 415.0)\n",
      "(-119.00000038743019, 43.99998435378075, 415.0)\n",
      "\n",
      "\n"
     ]
    }
   ],
   "source": [
    "# After Canonical\n",
    "transform = tio.ToCanonical()\n",
    "\n",
    "for filename in os.listdir(volumes_dir):\n",
    "    image = tio.ScalarImage(os.path.join(volumes_dir, filename))\n",
    "    label = tio.LabelMap(os.path.join(masks_dir, filename))\n",
    "    label_fixed = tio.LabelMap(os.path.join(fixed_dir, filename))\n",
    "    out_image = transform(image)\n",
    "    out_label = transform(label)\n",
    "    out_label_fixed = transform(label_fixed)\n",
    "    print(filename)\n",
    "    print(out_image.origin)\n",
    "    print(out_label.origin)\n",
    "    print(out_label_fixed.origin)\n",
    "    print('\\n')"
   ]
  },
  {
   "cell_type": "code",
   "execution_count": null,
   "id": "2a044b65",
   "metadata": {},
   "outputs": [],
   "source": []
  }
 ],
 "metadata": {
  "kernelspec": {
   "display_name": "Python 3 (ipykernel)",
   "language": "python",
   "name": "python3"
  },
  "language_info": {
   "codemirror_mode": {
    "name": "ipython",
    "version": 3
   },
   "file_extension": ".py",
   "mimetype": "text/x-python",
   "name": "python",
   "nbconvert_exporter": "python",
   "pygments_lexer": "ipython3",
   "version": "3.9.7"
  }
 },
 "nbformat": 4,
 "nbformat_minor": 5
}
