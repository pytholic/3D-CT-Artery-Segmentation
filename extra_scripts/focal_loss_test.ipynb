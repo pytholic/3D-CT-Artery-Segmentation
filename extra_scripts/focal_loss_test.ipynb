{
 "cells": [
  {
   "cell_type": "code",
   "execution_count": 9,
   "id": "8cc5e655",
   "metadata": {},
   "outputs": [],
   "source": [
    "import random\n",
    "import torch\n",
    "from torchvision.ops import sigmoid_focal_loss \n",
    "\n",
    "batch_size = 1\n",
    "num_classes = 3\n",
    "\n",
    "# Randomly assign the GT class for each sample in the batch\n",
    "gt = torch.zeros(batch_size, num_classes)\n",
    "for b in range(batch_size):\n",
    "    class_idx = random.randint(0, num_classes - 1)\n",
    "    gt[b, class_idx] = 1\n",
    "\n",
    "# Get fake predictions from our \"model\" and compare\n",
    "logits = torch.randn(batch_size, num_classes)\n",
    "loss = sigmoid_focal_loss(logits, gt)"
   ]
  },
  {
   "cell_type": "code",
   "execution_count": 10,
   "id": "989c0039",
   "metadata": {},
   "outputs": [
    {
     "name": "stdout",
     "output_type": "stream",
     "text": [
      "tensor([[0.3990, 0.1443, 0.0124]])\n",
      "tensor([[0., 0., 1.]])\n"
     ]
    }
   ],
   "source": [
    "print(loss)\n",
    "print(gt)"
   ]
  },
  {
   "cell_type": "code",
   "execution_count": null,
   "id": "42d0d823",
   "metadata": {},
   "outputs": [],
   "source": []
  }
 ],
 "metadata": {
  "kernelspec": {
   "display_name": "Python 3 (ipykernel)",
   "language": "python",
   "name": "python3"
  },
  "language_info": {
   "codemirror_mode": {
    "name": "ipython",
    "version": 3
   },
   "file_extension": ".py",
   "mimetype": "text/x-python",
   "name": "python",
   "nbconvert_exporter": "python",
   "pygments_lexer": "ipython3",
   "version": "3.9.7"
  }
 },
 "nbformat": 4,
 "nbformat_minor": 5
}
