{
 "cells": [
  {
   "cell_type": "code",
   "execution_count": 1,
   "id": "f5817548",
   "metadata": {},
   "outputs": [],
   "source": [
    "import os, glob\n",
    "import nibabel as nib\n",
    "import numpy as np"
   ]
  },
  {
   "cell_type": "code",
   "execution_count": 2,
   "id": "ca9d7468",
   "metadata": {},
   "outputs": [],
   "source": [
    "def read_nifti_file(filepath):\n",
    "    \"\"\"Read and load volume\"\"\"\n",
    "    # Read file\n",
    "    scan = nib.load(filepath)\n",
    "    # Get raw data\n",
    "    scan = scan.get_fdata()\n",
    "    return scan"
   ]
  },
  {
   "cell_type": "code",
   "execution_count": 3,
   "id": "1baff1cd",
   "metadata": {},
   "outputs": [],
   "source": [
    "TRAIN_VOL_DIR = \"./data/train/volumes/\"\n",
    "TRAIN_MASK_DIR = \"./data/train/masks/\""
   ]
  },
  {
   "cell_type": "code",
   "execution_count": 4,
   "id": "f57bf44c",
   "metadata": {},
   "outputs": [
    {
     "name": "stdout",
     "output_type": "stream",
     "text": [
      "File number:  6 \n",
      "Size:  (512, 512, 624)\n",
      "File number:  7 \n",
      "Size:  (512, 512, 482)\n",
      "File number:  9 \n",
      "Size:  (512, 512, 474)\n",
      "File number:  4 \n",
      "Size:  (512, 512, 690)\n",
      "File number:  12 \n",
      "Size:  (512, 512, 494)\n",
      "File number:  17 \n",
      "Size:  (512, 512, 486)\n",
      "File number:  3 \n",
      "Size:  (512, 512, 690)\n",
      "File number:  1 \n",
      "Size:  (512, 512, 510)\n",
      "File number:  11 \n",
      "Size:  (512, 512, 512)\n",
      "File number:  2 \n",
      "Size:  (512, 512, 570)\n",
      "File number:  13 \n",
      "Size:  (512, 512, 480)\n",
      "File number:  16 \n",
      "Size:  (512, 512, 512)\n",
      "File number:  15 \n",
      "Size:  (512, 512, 490)\n",
      "File number:  10 \n",
      "Size:  (512, 512, 534)\n",
      "File number:  8 \n",
      "Size:  (512, 512, 536)\n",
      "File number:  14 \n",
      "Size:  (512, 512, 490)\n"
     ]
    }
   ],
   "source": [
    "for file in glob.glob(TRAIN_VOL_DIR +'*.nii.gz'):\n",
    "    volume = read_nifti_file(file)\n",
    "    print(\"File number: \", file.split('/')[-1].split('.')[0], \"\\nSize: \", volume.shape)"
   ]
  },
  {
   "cell_type": "code",
   "execution_count": null,
   "id": "1f8bc0ad",
   "metadata": {},
   "outputs": [
    {
     "name": "stdout",
     "output_type": "stream",
     "text": [
      "File number:  6 \n",
      "Size:  (512, 512, 624)\n",
      "None\n",
      "File number:  7 \n",
      "Size:  (512, 512, 482)\n",
      "None\n",
      "File number:  9 \n",
      "Size:  (512, 512, 474)\n",
      "None\n",
      "File number:  4 \n",
      "Size:  (512, 512, 690)\n",
      "None\n",
      "File number:  12 \n",
      "Size:  (512, 512, 494)\n",
      "None\n",
      "File number:  17 \n",
      "Size:  (512, 512, 486)\n",
      "None\n",
      "File number:  3 \n",
      "Size:  (512, 512, 690)\n",
      "None\n",
      "File number:  1 \n",
      "Size:  (512, 512, 510)\n",
      "None\n",
      "File number:  11 \n",
      "Size:  (512, 512, 512)\n",
      "None\n",
      "File number:  2 \n",
      "Size:  (512, 512, 570)\n",
      "None\n",
      "File number:  13 \n",
      "Size:  (512, 512, 480)\n",
      "None\n",
      "File number:  16 \n",
      "Size:  (512, 512, 512)\n",
      "None\n",
      "File number:  15 \n",
      "Size:  (512, 512, 490)\n",
      "None\n"
     ]
    }
   ],
   "source": [
    "for file in glob.glob(TRAIN_MASK_DIR +'*.nii.gz'):\n",
    "    mask = read_nifti_file(file)\n",
    "    print(print(\"File number: \", file.split('/')[-1].split('.')[0], \"\\nSize: \", mask.shape))"
   ]
  },
  {
   "cell_type": "code",
   "execution_count": null,
   "id": "5098fd28",
   "metadata": {},
   "outputs": [],
   "source": []
  }
 ],
 "metadata": {
  "kernelspec": {
   "display_name": "Python 3 (ipykernel)",
   "language": "python",
   "name": "python3"
  },
  "language_info": {
   "codemirror_mode": {
    "name": "ipython",
    "version": 3
   },
   "file_extension": ".py",
   "mimetype": "text/x-python",
   "name": "python",
   "nbconvert_exporter": "python",
   "pygments_lexer": "ipython3",
   "version": "3.9.7"
  }
 },
 "nbformat": 4,
 "nbformat_minor": 5
}
