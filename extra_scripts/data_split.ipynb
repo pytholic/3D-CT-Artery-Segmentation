{
 "cells": [
  {
   "cell_type": "code",
   "execution_count": 7,
   "id": "9e27b245",
   "metadata": {
    "scrolled": true
   },
   "outputs": [],
   "source": [
    "import splitfolders"
   ]
  },
  {
   "cell_type": "code",
   "execution_count": 8,
   "id": "2b8f5883",
   "metadata": {},
   "outputs": [
    {
     "name": "stderr",
     "output_type": "stream",
     "text": [
      "\n",
      "Copying files: 0 files [00:00, ? files/s]\u001b[A\n",
      "Copying files: 32 files [00:00, 310.32 files/s]\u001b[A\n",
      "Copying files: 68 files [00:00, 335.51 files/s]\u001b[A\n",
      "Copying files: 104 files [00:00, 344.10 files/s]\u001b[A\n",
      "Copying files: 118 files [00:14, 344.10 files/s]\u001b[A\n",
      "Copying files: 119 files [00:16,  4.22 files/s] \u001b[A\n",
      "Copying files: 120 files [00:20,  3.26 files/s]\u001b[A\n",
      "Copying files: 125 files [00:34,  3.26 files/s]\u001b[A\n",
      "Copying files: 126 files [00:35,  1.56 files/s]\u001b[A\n",
      "Copying files: 127 files [00:38,  1.41 files/s]\u001b[A\n",
      "Copying files: 134 files [00:54,  1.41 files/s]\u001b[A\n",
      "Copying files: 135 files [00:54,  1.10s/ files]\u001b[A\n",
      "Copying files: 136 files [00:55,  1.07s/ files]\u001b[A\n",
      "Copying files: 144 files [01:14,  1.07s/ files]\u001b[A\n",
      "Copying files: 145 files [01:17,  1.59s/ files]\u001b[A\n",
      "Copying files: 146 files [01:18,  1.59s/ files]\u001b[A\n",
      "Copying files: 152 files [01:33,  1.86s/ files]\u001b[A\n",
      "Copying files: 153 files [01:35,  1.86s/ files]\u001b[A\n",
      "Copying files: 158 files [01:49,  2.17s/ files]\u001b[A\n",
      "Copying files: 159 files [01:53,  2.36s/ files]\u001b[A\n",
      "Copying files: 162 files [02:01,  2.49s/ files]\u001b[A\n",
      "Copying files: 164 files [02:09,  2.79s/ files]\u001b[A\n",
      "Copying files: 166 files [02:13,  2.52s/ files]\u001b[A\n",
      "Copying files: 167 files [02:17,  2.74s/ files]\u001b[A\n",
      "Copying files: 168 files [02:21,  3.09s/ files]\u001b[A\n",
      "Copying files: 169 files [02:25,  3.13s/ files]\u001b[A\n",
      "Copying files: 170 files [02:28,  3.09s/ files]\u001b[A\n",
      "Copying files: 171 files [02:32,  3.36s/ files]\u001b[A\n",
      "Copying files: 172 files [02:33,  2.90s/ files]\u001b[A\n",
      "Copying files: 173 files [02:35,  2.59s/ files]\u001b[A\n",
      "Copying files: 174 files [02:40,  3.07s/ files]\u001b[A\n",
      "Copying files: 175 files [02:43,  3.24s/ files]\u001b[A\n",
      "Copying files: 176 files [02:44,  2.46s/ files]\u001b[A\n",
      "Copying files: 177 files [02:45,  2.05s/ files]\u001b[A\n",
      "Copying files: 178 files [02:47,  1.97s/ files]\u001b[A\n",
      "Copying files: 179 files [02:49,  2.20s/ files]\u001b[A\n",
      "Copying files: 180 files [02:52,  2.30s/ files]\u001b[A\n",
      "Copying files: 181 files [02:57,  3.27s/ files]\u001b[A\n",
      "Copying files: 182 files [03:01,  3.35s/ files]\u001b[A\n",
      "Copying files: 183 files [03:08,  4.40s/ files]\u001b[A\n",
      "Copying files: 184 files [03:12,  4.20s/ files]\u001b[A\n",
      "Copying files: 185 files [03:15,  3.99s/ files]\u001b[A\n",
      "Copying files: 186 files [03:18,  3.55s/ files]\u001b[A\n",
      "Copying files: 187 files [03:20,  3.11s/ files]\u001b[A\n",
      "Copying files: 188 files [03:22,  2.98s/ files]\u001b[A\n",
      "Copying files: 189 files [03:23,  2.33s/ files]\u001b[A\n",
      "Copying files: 190 files [03:26,  2.60s/ files]\u001b[A\n",
      "Copying files: 191 files [03:28,  2.24s/ files]\u001b[A\n",
      "Copying files: 192 files [03:28,  1.72s/ files]\u001b[A\n",
      "Copying files: 193 files [03:33,  2.56s/ files]\u001b[A\n",
      "Copying files: 194 files [03:37,  2.96s/ files]\u001b[A\n",
      "Copying files: 195 files [03:41,  3.47s/ files]\u001b[A\n",
      "Copying files: 196 files [03:43,  2.94s/ files]\u001b[A\n",
      "Copying files: 197 files [03:44,  2.33s/ files]\u001b[A\n",
      "Copying files: 198 files [03:47,  2.47s/ files]\u001b[A\n",
      "Copying files: 199 files [03:51,  2.87s/ files]\u001b[A\n",
      "Copying files: 200 files [03:52,  2.47s/ files]\u001b[A\n",
      "Copying files: 201 files [03:54,  2.15s/ files]\u001b[A\n",
      "Copying files: 202 files [03:57,  2.44s/ files]\u001b[A\n",
      "Copying files: 203 files [04:01,  3.10s/ files]\u001b[A\n",
      "Copying files: 204 files [04:03,  2.73s/ files]\u001b[A\n",
      "Copying files: 205 files [04:04,  2.31s/ files]\u001b[A\n",
      "Copying files: 206 files [04:06,  2.10s/ files]\u001b[A\n",
      "Copying files: 207 files [04:09,  2.49s/ files]\u001b[A\n",
      "Copying files: 208 files [04:13,  2.68s/ files]\u001b[A\n",
      "Copying files: 209 files [04:17,  3.20s/ files]\u001b[A\n",
      "Copying files: 210 files [04:18,  2.43s/ files]\u001b[A\n",
      "Copying files: 211 files [04:18,  1.91s/ files]\u001b[A\n",
      "Copying files: 212 files [04:20,  1.95s/ files]\u001b[A\n",
      "Copying files: 213 files [04:24,  2.45s/ files]\u001b[A\n",
      "Copying files: 214 files [04:25,  1.95s/ files]\u001b[A\n",
      "Copying files: 215 files [04:29,  2.72s/ files]\u001b[A\n",
      "Copying files: 216 files [04:32,  2.80s/ files]\u001b[A\n",
      "Copying files: 217 files [04:33,  2.31s/ files]\u001b[A\n",
      "Copying files: 218 files [04:34,  1.91s/ files]\u001b[A\n",
      "Copying files: 219 files [04:37,  2.05s/ files]\u001b[A\n",
      "Copying files: 220 files [04:38,  1.83s/ files]\u001b[A\n",
      "Copying files: 221 files [04:42,  2.49s/ files]\u001b[A\n",
      "Copying files: 222 files [04:43,  1.96s/ files]\u001b[A\n",
      "Copying files: 223 files [04:45,  2.00s/ files]\u001b[A\n",
      "Copying files: 224 files [04:53,  1.31s/ files]\u001b[A\n"
     ]
    }
   ],
   "source": [
    "splitfolders.ratio('/media/trojan/evo/3D-CT-Artery-Segmentation/data', output='/media/trojan/evo/3D-CT-Artery-Segmentation/data_splitted', seed=1, ratio=(0.8, 0.2)) "
   ]
  },
  {
   "cell_type": "code",
   "execution_count": 9,
   "id": "f65f66fa",
   "metadata": {},
   "outputs": [
    {
     "name": "stdout",
     "output_type": "stream",
     "text": [
      "89\n"
     ]
    }
   ],
   "source": [
    "# Loop way\n",
    "\n",
    "import os\n",
    "train_dir = '/media/trojan/evo/3D-CT-Artery-Segmentation/data_splitted/train'\n",
    "volumes_dir = os.path.join(train_dir, 'volumes')\n",
    "masks_dir = os.path.join(train_dir, 'masks')\n",
    "\n",
    "volumes_list = sorted(os.listdir(volumes_dir))\n",
    "masks_list = sorted(os.listdir(masks_dir))\n",
    "\n",
    "count = 0\n",
    "for i in range(0, len(volumes_list)):\n",
    "    if volumes_list[i] == masks_list[i]:\n",
    "        count += 1\n",
    "print(count)"
   ]
  },
  {
   "cell_type": "code",
   "execution_count": 10,
   "id": "08ff4d36",
   "metadata": {},
   "outputs": [
    {
     "name": "stdout",
     "output_type": "stream",
     "text": [
      "89\n"
     ]
    }
   ],
   "source": [
    "# List comprehension way\n",
    "count = 0\n",
    "count = sum([count+1 for i in range(0, len(volumes_list)) if volumes_list[i] == masks_list[i]])\n",
    "print(count)"
   ]
  },
  {
   "cell_type": "code",
   "execution_count": null,
   "id": "13df2179",
   "metadata": {},
   "outputs": [],
   "source": []
  }
 ],
 "metadata": {
  "kernelspec": {
   "display_name": "Python 3 (ipykernel)",
   "language": "python",
   "name": "python3"
  },
  "language_info": {
   "codemirror_mode": {
    "name": "ipython",
    "version": 3
   },
   "file_extension": ".py",
   "mimetype": "text/x-python",
   "name": "python",
   "nbconvert_exporter": "python",
   "pygments_lexer": "ipython3",
   "version": "3.9.7"
  }
 },
 "nbformat": 4,
 "nbformat_minor": 5
}
