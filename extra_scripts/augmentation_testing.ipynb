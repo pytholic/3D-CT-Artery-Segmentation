{
 "cells": [
  {
   "cell_type": "code",
   "execution_count": 1,
   "id": "fdd5da32",
   "metadata": {},
   "outputs": [
    {
     "name": "stderr",
     "output_type": "stream",
     "text": [
      "/home/trojan/anaconda3/envs/art_seg/lib/python3.10/site-packages/tqdm/auto.py:22: TqdmWarning: IProgress not found. Please update jupyter and ipywidgets. See https://ipywidgets.readthedocs.io/en/stable/user_install.html\n",
      "  from .autonotebook import tqdm as notebook_tqdm\n"
     ]
    }
   ],
   "source": [
    "import os, glob\n",
    "import torchio as tio\n",
    "import matplotlib.pyplot as plt"
   ]
  },
  {
   "cell_type": "code",
   "execution_count": 2,
   "id": "d0ab6cbf",
   "metadata": {},
   "outputs": [],
   "source": [
    "data_dir = os.path.abspath(\"./data/train\")\n",
    "volumes_dir = os.path.join(data_dir + \"/volumes\")\n",
    "masks_dir = os.path.join(data_dir + \"/masks\")\n",
    "volumes_paths = sorted(glob.glob(volumes_dir + \"/\" + \"*.nii.gz\"))\n",
    "masks_paths = sorted(glob.glob(masks_dir + \"/\" + \"*.nii.gz\"))"
   ]
  },
  {
   "cell_type": "code",
   "execution_count": 3,
   "id": "90bb73ba",
   "metadata": {},
   "outputs": [],
   "source": [
    "####### Testing on just one image ###########"
   ]
  },
  {
   "cell_type": "code",
   "execution_count": 4,
   "id": "cab5ff3f",
   "metadata": {},
   "outputs": [],
   "source": [
    "subjects = []\n",
    "for volume_path in volumes_paths:\n",
    "    subject = tio.ScalarImage(volume_path)\n",
    "    subjects.append(subject)"
   ]
  },
  {
   "cell_type": "code",
   "execution_count": 5,
   "id": "097d9132",
   "metadata": {
    "scrolled": true
   },
   "outputs": [
    {
     "name": "stdout",
     "output_type": "stream",
     "text": [
      "17\n"
     ]
    }
   ],
   "source": [
    "print(len(subjects))"
   ]
  },
  {
   "cell_type": "code",
   "execution_count": 6,
   "id": "72feb710",
   "metadata": {},
   "outputs": [],
   "source": [
    "sample = subjects[0]"
   ]
  },
  {
   "cell_type": "code",
   "execution_count": 17,
   "id": "677c8c19",
   "metadata": {},
   "outputs": [],
   "source": [
    "\"\"\"\n",
    "Testing various transformations and determining correct argument ranges\n",
    "\"\"\"\n",
    "\n",
    "# transform = tio.RandomFlip(axes=(0,1), flip_probability=1)\n",
    "# transform = tio.RandomAnisotropy(axes=(0,1,2), downsampling=6)\n",
    "# transform = tio.RandomMotion()\n",
    "# transform = tio.RandomGhosting()\n",
    "# transform = tio.RandomSpike()\n",
    "# transform = tio.RandomBiasField()\n",
    "# transform = tio.RandomBlur(std=(0,3))\n",
    "# transform = tio.RandomNoise(std=(0,400))  # (std=256,256)\n",
    "# transform = tio.RandomSwap(patch_size=30)\n",
    "# transform = tio.RandomGamma(log_gamma=(-0.5, 0.5))\n",
    "# transform = tio.RandomAffine(scales=(0.9, 1.2), degrees=15)\n",
    "# transform = tio.Resample(3)\n",
    "\n",
    "\n",
    "# Check canonical etc."
   ]
  },
  {
   "cell_type": "code",
   "execution_count": 18,
   "id": "ae0ee0a6",
   "metadata": {},
   "outputs": [],
   "source": [
    "output = transform(sample)"
   ]
  },
  {
   "cell_type": "code",
   "execution_count": 19,
   "id": "9cdd6e53",
   "metadata": {},
   "outputs": [],
   "source": [
    "output.save(\"./aug_data/test.nii.gz\")"
   ]
  },
  {
   "cell_type": "code",
   "execution_count": 24,
   "id": "3b5005ac",
   "metadata": {},
   "outputs": [],
   "source": [
    "# To apply one by one in loop\n",
    "transforms_dict = {\n",
    "    \"random-flip\": tio.RandomFlip(axes=(0,1), flip_probability=1),\n",
    "    \"random-anisotropy\": tio.RandomAnisotropy(axes=(0,1,2), downsampling=6),\n",
    "    \"random-motion\": tio.RandomMotion(),\n",
    "    \"random-ghosting\": tio.RandomGhosting(),\n",
    "    \"random-spike\": tio.RandomSpike(),\n",
    "    \"random-biasfield\": tio.RandomBiasField(),\n",
    "    \"random-blur\": tio.RandomBlur(std=(0,3)),\n",
    "    \"random-noise\": tio.RandomNoise(std=(0,400)),\n",
    "    \"random-swap\": tio.RandomSwap(patch_size=30),\n",
    "    \"random-gamma\": tio.RandomGamma(log_gamma=(-0.5, 0.5)),\n",
    "    \"random-affine\": tio.RandomAffine(scales=(0.9, 1.2), degrees=15),\n",
    "    \"resample\": tio.Resample(3)\n",
    "}\n",
    "\n",
    "# print(transforms_dict.values())\n",
    "for name,transform in transforms_dict.items():\n",
    "    output = transform(sample)\n",
    "    output.save(f\"./aug_data/test-{name}.nii.gz\")"
   ]
  },
  {
   "cell_type": "code",
   "execution_count": null,
   "id": "6e641d9d",
   "metadata": {},
   "outputs": [],
   "source": [
    "###########################################"
   ]
  },
  {
   "cell_type": "code",
   "execution_count": null,
   "id": "73a11e5a",
   "metadata": {},
   "outputs": [],
   "source": [
    "########### Testing on image and mask ##################"
   ]
  },
  {
   "cell_type": "code",
   "execution_count": 189,
   "id": "e94b4069",
   "metadata": {},
   "outputs": [
    {
     "name": "stdout",
     "output_type": "stream",
     "text": [
      "Dataset size: 17 subjects\n"
     ]
    }
   ],
   "source": [
    "subjects = []\n",
    "for (volume_path, mask_path) in zip(volumes_paths, masks_paths):\n",
    "    subject = tio.Subject(\n",
    "        vol=tio.ScalarImage(volume_path),\n",
    "        mask=tio.LabelMap(mask_path),\n",
    "    )\n",
    "    subjects.append(subject)\n",
    "dataset = tio.SubjectsDataset(subjects)\n",
    "print('Dataset size:', len(dataset), 'subjects')"
   ]
  },
  {
   "cell_type": "code",
   "execution_count": 190,
   "id": "1e0062de",
   "metadata": {},
   "outputs": [],
   "source": [
    "transform = tio.RandomAffine(scales=(0.9, 1.2), degrees=15)"
   ]
  },
  {
   "cell_type": "code",
   "execution_count": 24,
   "id": "d0ae0c8f",
   "metadata": {},
   "outputs": [],
   "source": [
    "transform = tio.Compose([\n",
    "    tio.RandomFlip(axes=(0,1), flip_probability=1),\n",
    "    tio.RandomMotion(p=0.5),\n",
    "    tio.RandomBiasField(p=0.3),\n",
    "    tio.RandomNoise(p=0.5),\n",
    "    tio.RandomFlip(),\n",
    "    tio.OneOf({\n",
    "        tio.RandomAffine(\n",
    "            scales=(0.9, 1.2),\n",
    "            degrees=15\n",
    "        ): 0.8,\n",
    "        tio.RandomElasticDeformation(): 0.2,\n",
    "    }),\n",
    "])"
   ]
  },
  {
   "cell_type": "code",
   "execution_count": 191,
   "id": "af9423ea",
   "metadata": {},
   "outputs": [],
   "source": [
    "sample = subjects[0]"
   ]
  },
  {
   "cell_type": "code",
   "execution_count": 192,
   "id": "8c53e49a",
   "metadata": {},
   "outputs": [
    {
     "name": "stdout",
     "output_type": "stream",
     "text": [
      "Subject(Keys: ('vol', 'mask'); images: 2)\n"
     ]
    }
   ],
   "source": [
    "print(sample)"
   ]
  },
  {
   "cell_type": "code",
   "execution_count": 193,
   "id": "0e59759d",
   "metadata": {},
   "outputs": [],
   "source": [
    "output = transform(sample)"
   ]
  },
  {
   "cell_type": "code",
   "execution_count": 194,
   "id": "f204e3d1",
   "metadata": {},
   "outputs": [],
   "source": [
    "temp = list(output.values())"
   ]
  },
  {
   "cell_type": "code",
   "execution_count": 195,
   "id": "9650cd4d",
   "metadata": {},
   "outputs": [
    {
     "name": "stdout",
     "output_type": "stream",
     "text": [
      "[ScalarImage(shape: (1, 512, 512, 510); spacing: (0.40, 0.40, 0.50); orientation: LPS+; dtype: torch.FloatTensor; memory: 510.0 MiB), LabelMap(shape: (1, 512, 512, 510); spacing: (0.40, 0.40, 0.50); orientation: LPS+; dtype: torch.FloatTensor; memory: 510.0 MiB)]\n"
     ]
    }
   ],
   "source": [
    "print(temp)"
   ]
  },
  {
   "cell_type": "code",
   "execution_count": 196,
   "id": "26c4b159",
   "metadata": {},
   "outputs": [
    {
     "name": "stdout",
     "output_type": "stream",
     "text": [
      "ScalarImage(shape: (1, 512, 512, 510); spacing: (0.40, 0.40, 0.50); orientation: LPS+; dtype: torch.FloatTensor; memory: 510.0 MiB)\n"
     ]
    }
   ],
   "source": [
    "print(temp[0])"
   ]
  },
  {
   "cell_type": "code",
   "execution_count": 197,
   "id": "c4fe663d",
   "metadata": {},
   "outputs": [
    {
     "name": "stdout",
     "output_type": "stream",
     "text": [
      "LabelMap(shape: (1, 512, 512, 510); spacing: (0.40, 0.40, 0.50); orientation: LPS+; dtype: torch.FloatTensor; memory: 510.0 MiB)\n"
     ]
    }
   ],
   "source": [
    "print(temp[1])"
   ]
  },
  {
   "cell_type": "code",
   "execution_count": 198,
   "id": "62bc2210",
   "metadata": {},
   "outputs": [],
   "source": [
    "temp[0].save(\"./aug_data/test.nii.gz\")\n",
    "temp[1].save(\"./aug_data/test_mask.nii.gz\")"
   ]
  },
  {
   "cell_type": "code",
   "execution_count": null,
   "id": "57615cc8",
   "metadata": {},
   "outputs": [],
   "source": [
    "################################################"
   ]
  },
  {
   "cell_type": "code",
   "execution_count": null,
   "id": "9b25142c",
   "metadata": {},
   "outputs": [],
   "source": [
    "############# Apply different transformations in loop ########################"
   ]
  },
  {
   "cell_type": "code",
   "execution_count": 199,
   "id": "9e06b793",
   "metadata": {},
   "outputs": [
    {
     "name": "stdout",
     "output_type": "stream",
     "text": [
      "Dataset size: 17 subjects\n"
     ]
    }
   ],
   "source": [
    "subjects = []\n",
    "for (volume_path, mask_path) in zip(volumes_paths, masks_paths):\n",
    "    subject = tio.Subject(\n",
    "        vol=tio.ScalarImage(volume_path),\n",
    "        mask=tio.LabelMap(mask_path),\n",
    "    )\n",
    "    subjects.append(subject)\n",
    "dataset = tio.SubjectsDataset(subjects)\n",
    "print('Dataset size:', len(dataset), 'subjects')"
   ]
  },
  {
   "cell_type": "code",
   "execution_count": 200,
   "id": "c2472895",
   "metadata": {},
   "outputs": [],
   "source": [
    "sample = subjects[0]"
   ]
  },
  {
   "cell_type": "code",
   "execution_count": 203,
   "id": "e6647c3d",
   "metadata": {},
   "outputs": [],
   "source": [
    "# Need to assign probabilities here for tio.OneOf \n",
    "transform_dict = {\n",
    "    tio.Resample(3),\n",
    "    tio.RandomMotion(),\n",
    "    tio.RandomBiasField(),\n",
    "    tio.RandomNoise(std=(0,400)),\n",
    "    tio.RandomFlip(axes=(0,1), flip_probability=1),\n",
    "    tio.RandomAnisotropy(axes=(0,1,2), downsampling=6),\n",
    "    tio.RandomGhosting(),\n",
    "    tio.RandomSpike(),\n",
    "    tio.RandomBlur(std=(0,3)),\n",
    "    tio.RandomSwap(patch_size=30),\n",
    "    tio.RandomGamma(log_gamma=(-0.5, 0.5)),\n",
    "    tio.OneOf({\n",
    "        tio.RandomAffine(\n",
    "            scales=(0.9, 1.2),\n",
    "            degrees=(15, 15)\n",
    "        ): 0.8,\n",
    "        tio.RandomElasticDeformation(): 0.2,\n",
    "    }),\n",
    "} "
   ]
  },
  {
   "cell_type": "code",
   "execution_count": 204,
   "id": "82900ff2",
   "metadata": {},
   "outputs": [],
   "source": [
    "transform_compose = tio.Compose([\n",
    "    tio.Resample(p=0.3, target=3),\n",
    "    tio.RandomMotion(p=0.2),\n",
    "    tio.RandomBiasField(p=0.3),\n",
    "    tio.RandomNoise(p=0.5, std=(0,400)),\n",
    "    tio.RandomFlip(axes=(0,1), flip_probability=0.5),\n",
    "    tio.RandomAnisotropy(p=0.3, axes=(0,1,2), downsampling=6),\n",
    "    tio.RandomGhosting(p=0.2),\n",
    "    tio.RandomSpike(p=0.3),\n",
    "    tio.RandomBlur(p=0.3, std=(0,3)),\n",
    "    tio.RandomSwap(p=0.3, patch_size=30),\n",
    "    tio.RandomGamma(p=0.3, log_gamma=(-0.5, 0.5)),\n",
    "    tio.OneOf(p=0.3, transforms = {\n",
    "        tio.RandomAffine(\n",
    "            scales=(0.9, 1.2),\n",
    "            degrees=(15, 15)\n",
    "        ): 0.8,\n",
    "        tio.RandomElasticDeformation(): 0.2,\n",
    "    }),\n",
    "])"
   ]
  },
  {
   "cell_type": "code",
   "execution_count": 205,
   "id": "d889fb55",
   "metadata": {},
   "outputs": [],
   "source": [
    "transform = tio.OneOf({transform_compose: 0.2, tio.OneOf(transform_dict): 0.8})"
   ]
  },
  {
   "cell_type": "code",
   "execution_count": 206,
   "id": "8157e412",
   "metadata": {},
   "outputs": [],
   "source": [
    "for i in range (0, 10):\n",
    "    output = transform(sample)\n",
    "    temp = list(output.values())\n",
    "    temp[0].save(f\"./aug_data/test_{i}.nii.gz\")\n",
    "    temp[1].save(f\"./aug_data/test_mask_{i}.nii.gz\")"
   ]
  },
  {
   "cell_type": "code",
   "execution_count": null,
   "id": "a52dd40f",
   "metadata": {},
   "outputs": [],
   "source": []
  }
 ],
 "metadata": {
  "kernelspec": {
   "display_name": "Python 3 (ipykernel)",
   "language": "python",
   "name": "python3"
  },
  "language_info": {
   "codemirror_mode": {
    "name": "ipython",
    "version": 3
   },
   "file_extension": ".py",
   "mimetype": "text/x-python",
   "name": "python",
   "nbconvert_exporter": "python",
   "pygments_lexer": "ipython3",
   "version": "3.9.7"
  }
 },
 "nbformat": 4,
 "nbformat_minor": 5
}
