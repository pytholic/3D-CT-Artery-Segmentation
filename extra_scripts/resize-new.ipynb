{
 "cells": [
  {
   "cell_type": "code",
   "execution_count": 1,
   "id": "c2cc5ea2",
   "metadata": {},
   "outputs": [],
   "source": [
    "import os, glob\n",
    "from tqdm.contrib import tzip\n",
    "import torchio as tio"
   ]
  },
  {
   "cell_type": "code",
   "execution_count": 3,
   "id": "2bb3feb3",
   "metadata": {},
   "outputs": [],
   "source": [
    "DATA_DIR = '/media/trojan/evo/3D-CT-Artery-Segmentation/data_splitted'\n",
    "train_dir = os.path.join(DATA_DIR, 'train')\n",
    "validation_dir = os.path.join(DATA_DIR, \"val\")\n",
    "\n",
    "train_vol_dir = os.path.join(train_dir, 'volumes')\n",
    "train_masks_dir = os.path.join(train_dir, 'masks')\n",
    "train_vol_paths = sorted(glob.glob(train_vol_dir + '/' + '*.nii.gz'))\n",
    "train_masks_paths = sorted(glob.glob(train_masks_dir + '/' + '*.nii.gz'))\n",
    "\n",
    "validation_vol_dir = os.path.join(validation_dir, 'volumes')\n",
    "validation_masks_dir = os.path.join(validation_dir, 'masks')\n",
    "validation_vol_paths = sorted(glob.glob(validation_vol_dir + '/' + '*.nii.gz'))\n",
    "validation_masks_paths = sorted(glob.glob(validation_masks_dir + '/' + '*.nii.gz'))"
   ]
  },
  {
   "cell_type": "code",
   "execution_count": 4,
   "id": "aec8be19",
   "metadata": {},
   "outputs": [],
   "source": [
    "# Define output paths\n",
    "OUT_DIR = '/media/trojan/evo/3D-CT-Artery-Segmentation/data_resized'\n",
    "out_train_vol_dir = os.path.join(OUT_DIR, 'train/volumes')\n",
    "out_train_mask_dir = os.path.join(OUT_DIR, 'train/masks')\n",
    "out_val_vol_dir = os.path.join(OUT_DIR, 'val/volumes')\n",
    "out_val_mask_dir = os.path.join(OUT_DIR, 'val/masks')"
   ]
  },
  {
   "cell_type": "code",
   "execution_count": 5,
   "id": "3f99d604",
   "metadata": {},
   "outputs": [
    {
     "data": {
      "application/vnd.jupyter.widget-view+json": {
       "model_id": "3bed1b0b6dca45939474c0fa51405529",
       "version_major": 2,
       "version_minor": 0
      },
      "text/plain": [
       "  0%|          | 0/89 [00:00<?, ?it/s]"
      ]
     },
     "metadata": {},
     "output_type": "display_data"
    }
   ],
   "source": [
    "# Apply on training data\n",
    "\n",
    "transform = tio.Resize(target_shape=(128,128,512))\n",
    "\n",
    "for image_path,label_path in tzip(train_vol_paths, train_masks_paths):\n",
    "    subject = tio.Subject(\n",
    "        image=tio.ScalarImage(image_path),\n",
    "        label=tio.LabelMap(label_path),\n",
    "    )\n",
    "    \n",
    "    output = transform(subject)\n",
    "    name = image_path.split('/')[-1]\n",
    "    output.image.save(os.path.join(out_train_vol_dir, f'{name}'))\n",
    "    output.label.save(os.path.join(out_train_mask_dir, f'{name}'))"
   ]
  },
  {
   "cell_type": "code",
   "execution_count": 6,
   "id": "dbac7277",
   "metadata": {},
   "outputs": [
    {
     "data": {
      "application/vnd.jupyter.widget-view+json": {
       "model_id": "27d5ae34ccdf456e82e83e3c994ce4a3",
       "version_major": 2,
       "version_minor": 0
      },
      "text/plain": [
       "  0%|          | 0/23 [00:00<?, ?it/s]"
      ]
     },
     "metadata": {},
     "output_type": "display_data"
    }
   ],
   "source": [
    "# Apply on validation data\n",
    "\n",
    "transform = tio.Resize(target_shape=(128,128,512))\n",
    "\n",
    "for image_path,label_path in tzip(validation_vol_paths, validation_masks_paths):\n",
    "    subject = tio.Subject(\n",
    "        image=tio.ScalarImage(image_path),\n",
    "        label=tio.LabelMap(label_path),\n",
    "    )\n",
    "    \n",
    "    output = transform(subject)\n",
    "    name = image_path.split('/')[-1]\n",
    "    output.image.save(os.path.join(out_val_vol_dir, f'{name}'))\n",
    "    output.label.save(os.path.join(out_val_mask_dir, f'{name}'))"
   ]
  },
  {
   "cell_type": "code",
   "execution_count": null,
   "id": "16e2cfd0",
   "metadata": {},
   "outputs": [],
   "source": []
  }
 ],
 "metadata": {
  "kernelspec": {
   "display_name": "Python 3 (ipykernel)",
   "language": "python",
   "name": "python3"
  },
  "language_info": {
   "codemirror_mode": {
    "name": "ipython",
    "version": 3
   },
   "file_extension": ".py",
   "mimetype": "text/x-python",
   "name": "python",
   "nbconvert_exporter": "python",
   "pygments_lexer": "ipython3",
   "version": "3.9.7"
  }
 },
 "nbformat": 4,
 "nbformat_minor": 5
}
