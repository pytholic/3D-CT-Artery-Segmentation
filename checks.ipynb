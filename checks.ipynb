{
 "cells": [
  {
   "cell_type": "code",
   "execution_count": 23,
   "id": "3ea512cc",
   "metadata": {},
   "outputs": [],
   "source": [
    "import nibabel as nib\n",
    "import os, glob\n",
    "import numpy as np\n",
    "import torchio as tio"
   ]
  },
  {
   "cell_type": "markdown",
   "id": "a8b33569",
   "metadata": {},
   "source": [
    "# Size check"
   ]
  },
  {
   "cell_type": "code",
   "execution_count": 24,
   "id": "20d8bc82",
   "metadata": {},
   "outputs": [],
   "source": [
    "path = '/media/trojan/evo/3D-CT-Artery-Segmentation/data/data_new/data_splitted/train/masks'"
   ]
  },
  {
   "cell_type": "code",
   "execution_count": 26,
   "id": "781b02d8",
   "metadata": {},
   "outputs": [
    {
     "name": "stdout",
     "output_type": "stream",
     "text": [
      "/media/trojan/evo/3D-CT-Artery-Segmentation/data/data_new/data_splitted/train/masks/1.nii.gz\n",
      "(512, 512, 510)\n",
      "/media/trojan/evo/3D-CT-Artery-Segmentation/data/data_new/data_splitted/train/masks/10.nii.gz\n",
      "(512, 512, 534)\n",
      "/media/trojan/evo/3D-CT-Artery-Segmentation/data/data_new/data_splitted/train/masks/11.nii.gz\n",
      "(512, 512, 512)\n",
      "/media/trojan/evo/3D-CT-Artery-Segmentation/data/data_new/data_splitted/train/masks/12.nii.gz\n",
      "(512, 512, 494)\n",
      "/media/trojan/evo/3D-CT-Artery-Segmentation/data/data_new/data_splitted/train/masks/14.nii.gz\n",
      "(512, 512, 490)\n",
      "/media/trojan/evo/3D-CT-Artery-Segmentation/data/data_new/data_splitted/train/masks/15.nii.gz\n",
      "(512, 512, 490)\n",
      "/media/trojan/evo/3D-CT-Artery-Segmentation/data/data_new/data_splitted/train/masks/18.nii.gz\n",
      "(512, 512, 98)\n",
      "/media/trojan/evo/3D-CT-Artery-Segmentation/data/data_new/data_splitted/train/masks/19.nii.gz\n",
      "(512, 512, 82)\n",
      "/media/trojan/evo/3D-CT-Artery-Segmentation/data/data_new/data_splitted/train/masks/2.nii.gz\n",
      "(512, 512, 570)\n",
      "/media/trojan/evo/3D-CT-Artery-Segmentation/data/data_new/data_splitted/train/masks/20.nii.gz\n",
      "(512, 512, 510)\n",
      "/media/trojan/evo/3D-CT-Artery-Segmentation/data/data_new/data_splitted/train/masks/21.nii.gz\n",
      "(512, 512, 130)\n",
      "/media/trojan/evo/3D-CT-Artery-Segmentation/data/data_new/data_splitted/train/masks/22.nii.gz\n",
      "(512, 512, 88)\n",
      "/media/trojan/evo/3D-CT-Artery-Segmentation/data/data_new/data_splitted/train/masks/23.nii.gz\n",
      "(512, 512, 148)\n",
      "/media/trojan/evo/3D-CT-Artery-Segmentation/data/data_new/data_splitted/train/masks/25.nii.gz\n",
      "(512, 512, 136)\n",
      "/media/trojan/evo/3D-CT-Artery-Segmentation/data/data_new/data_splitted/train/masks/26.nii.gz\n",
      "(512, 512, 76)\n",
      "/media/trojan/evo/3D-CT-Artery-Segmentation/data/data_new/data_splitted/train/masks/27.nii.gz\n",
      "(512, 512, 614)\n",
      "/media/trojan/evo/3D-CT-Artery-Segmentation/data/data_new/data_splitted/train/masks/28.nii.gz\n",
      "(512, 512, 123)\n",
      "/media/trojan/evo/3D-CT-Artery-Segmentation/data/data_new/data_splitted/train/masks/29.nii.gz\n",
      "(512, 512, 190)\n",
      "/media/trojan/evo/3D-CT-Artery-Segmentation/data/data_new/data_splitted/train/masks/3.nii.gz\n",
      "(512, 512, 690)\n",
      "/media/trojan/evo/3D-CT-Artery-Segmentation/data/data_new/data_splitted/train/masks/30.nii.gz\n",
      "(512, 512, 83)\n",
      "/media/trojan/evo/3D-CT-Artery-Segmentation/data/data_new/data_splitted/train/masks/31.nii.gz\n",
      "(512, 512, 115)\n",
      "/media/trojan/evo/3D-CT-Artery-Segmentation/data/data_new/data_splitted/train/masks/32.nii.gz\n",
      "(512, 512, 504)\n",
      "/media/trojan/evo/3D-CT-Artery-Segmentation/data/data_new/data_splitted/train/masks/33.nii.gz\n",
      "(512, 512, 183)\n",
      "/media/trojan/evo/3D-CT-Artery-Segmentation/data/data_new/data_splitted/train/masks/34.nii.gz\n",
      "(512, 512, 183)\n",
      "/media/trojan/evo/3D-CT-Artery-Segmentation/data/data_new/data_splitted/train/masks/36.nii.gz\n",
      "(512, 512, 130)\n",
      "/media/trojan/evo/3D-CT-Artery-Segmentation/data/data_new/data_splitted/train/masks/37.nii.gz\n",
      "(512, 512, 77)\n",
      "/media/trojan/evo/3D-CT-Artery-Segmentation/data/data_new/data_splitted/train/masks/39.nii.gz\n",
      "(512, 512, 510)\n",
      "/media/trojan/evo/3D-CT-Artery-Segmentation/data/data_new/data_splitted/train/masks/4.nii.gz\n",
      "(512, 512, 690)\n",
      "/media/trojan/evo/3D-CT-Artery-Segmentation/data/data_new/data_splitted/train/masks/40.nii.gz\n",
      "(512, 512, 100)\n",
      "/media/trojan/evo/3D-CT-Artery-Segmentation/data/data_new/data_splitted/train/masks/41.nii.gz\n",
      "(512, 512, 100)\n",
      "/media/trojan/evo/3D-CT-Artery-Segmentation/data/data_new/data_splitted/train/masks/43.nii.gz\n",
      "(512, 512, 79)\n",
      "/media/trojan/evo/3D-CT-Artery-Segmentation/data/data_new/data_splitted/train/masks/44.nii.gz\n",
      "(512, 512, 123)\n",
      "/media/trojan/evo/3D-CT-Artery-Segmentation/data/data_new/data_splitted/train/masks/45.nii.gz\n",
      "(512, 512, 672)\n",
      "/media/trojan/evo/3D-CT-Artery-Segmentation/data/data_new/data_splitted/train/masks/6.nii.gz\n",
      "(512, 512, 624)\n",
      "/media/trojan/evo/3D-CT-Artery-Segmentation/data/data_new/data_splitted/train/masks/7.nii.gz\n",
      "(512, 512, 482)\n",
      "/media/trojan/evo/3D-CT-Artery-Segmentation/data/data_new/data_splitted/train/masks/8.nii.gz\n",
      "(512, 512, 536)\n",
      "/media/trojan/evo/3D-CT-Artery-Segmentation/data/data_new/data_splitted/train/masks/9.nii.gz\n",
      "(512, 512, 474)\n"
     ]
    }
   ],
   "source": [
    "for vol in glob.glob(path + '/*.nii.gz'):\n",
    "    print(vol)\n",
    "    vol = nib.load(vol).get_fdata()\n",
    "    print(vol.shape)"
   ]
  },
  {
   "cell_type": "markdown",
   "id": "78ab6061",
   "metadata": {},
   "source": [
    "# Label count check"
   ]
  },
  {
   "cell_type": "code",
   "execution_count": 26,
   "id": "4d422ba7",
   "metadata": {},
   "outputs": [],
   "source": [
    "path = '/media/trojan/evo/3D-CT-Artery-Segmentation/data/data_new/data_splitted/train/masks'"
   ]
  },
  {
   "cell_type": "code",
   "execution_count": null,
   "id": "80a4b854",
   "metadata": {
    "scrolled": true
   },
   "outputs": [
    {
     "name": "stdout",
     "output_type": "stream",
     "text": [
      "12.nii.gz\n",
      "\n",
      "\n",
      "18.nii.gz\n",
      "\n",
      "\n"
     ]
    }
   ],
   "source": [
    "for mask in glob.glob(path + '/*.nii.gz'):\n",
    "    name = mask.split('/')[-1]\n",
    "    label = nib.load(mask).get_fdata()\n",
    "    unique = np.unique(label, return_counts=True)\n",
    "    if unique[1].shape[0] > 2:\n",
    "        if unique[1][1] < unique[1][2]:\n",
    "            print(name)\n",
    "            print('\\n')"
   ]
  },
  {
   "cell_type": "markdown",
   "id": "bd570a75",
   "metadata": {},
   "source": [
    "The above check is not completely reliable. In some cases maybe label 2 is more abundant than label 1. So I am chekcing it manually now."
   ]
  },
  {
   "cell_type": "markdown",
   "id": "ae498c02",
   "metadata": {},
   "source": [
    "# Spacing check"
   ]
  },
  {
   "cell_type": "markdown",
   "id": "dc0f75f7",
   "metadata": {},
   "source": [
    "## Check on old data"
   ]
  },
  {
   "cell_type": "code",
   "execution_count": 17,
   "id": "65c6aa60",
   "metadata": {},
   "outputs": [],
   "source": [
    "data_dir = '/media/trojan/evo/3D-CT-Artery-Segmentation/data/data_old/data_original/train'\n",
    "vol_dir = os.path.join(data_dir, 'volumes')\n",
    "masks_dir = os.path.join(data_dir, 'masks')\n",
    "vol_paths = sorted(glob.glob(vol_dir + '/' + '*.nii.gz'))\n",
    "masks_paths = sorted(glob.glob(masks_dir + '/' + '*.nii.gz'))"
   ]
  },
  {
   "cell_type": "code",
   "execution_count": 18,
   "id": "7ec2c45d",
   "metadata": {},
   "outputs": [
    {
     "name": "stdout",
     "output_type": "stream",
     "text": [
      "(0.400390625, 0.400390625, 0.5) (0.400390625, 0.400390625, 0.5)\n",
      "(0.400390625, 0.400390625, 0.5) (0.400390625, 0.400390625, 0.5)\n",
      "(0.44921875, 0.44921875, 0.5) (0.44921875, 0.44921875, 0.5)\n",
      "(0.4296875, 0.4296875, 0.5) (0.4296875, 0.4296875, 0.5)\n",
      "(0.400390625, 0.400390625, 0.5) (0.400390625, 0.400390625, 0.5)\n",
      "(0.400390625, 0.400390625, 0.5) (0.400390625, 0.400390625, 0.5)\n",
      "(0.400390625, 0.400390625, 0.5) (0.400390625, 0.400390625, 0.5)\n",
      "(0.419921875, 0.419921875, 0.5) (0.419921875, 0.419921875, 0.5)\n",
      "(0.4296875, 0.4296875, 0.5) (0.4296875, 0.4296875, 0.5)\n",
      "(0.46875, 0.46875, 0.5) (0.46875, 0.46875, 0.5)\n",
      "(0.400390625, 0.400390625, 0.5) (0.400390625, 0.400390625, 0.5)\n",
      "(0.400390625, 0.400390625, 0.5) (0.400390625, 0.400390625, 0.5)\n",
      "(0.44921875, 0.44921875, 0.5) (0.44921875, 0.44921875, 0.5)\n",
      "(0.431640625, 0.431640625, 0.5) (0.431640625, 0.431640625, 0.5)\n",
      "(0.48828125, 0.48828125, 0.5) (0.48828125, 0.48828125, 0.5)\n",
      "(0.4296875, 0.4296875, 0.5) (0.4296875, 0.4296875, 0.5)\n"
     ]
    }
   ],
   "source": [
    "for image_path,label_path in zip(vol_paths, masks_paths):\n",
    "    subject = tio.Subject(\n",
    "        image=tio.ScalarImage(image_path),\n",
    "        label=tio.LabelMap(label_path),\n",
    "    )\n",
    "    print(subject.image.spacing, subject.label.spacing)"
   ]
  },
  {
   "cell_type": "markdown",
   "id": "da5a1829",
   "metadata": {},
   "source": [
    "## Check on new data"
   ]
  },
  {
   "cell_type": "code",
   "execution_count": 19,
   "id": "cefc61a5",
   "metadata": {},
   "outputs": [],
   "source": [
    "data_dir = '/media/trojan/evo/3D-CT-Artery-Segmentation/data/data_new/data_original/train'\n",
    "vol_dir = os.path.join(data_dir, 'volumes')\n",
    "masks_dir = os.path.join(data_dir, 'masks')\n",
    "vol_paths = sorted(glob.glob(vol_dir + '/' + '*.nii.gz'))\n",
    "masks_paths = sorted(glob.glob(masks_dir + '/' + '*.nii.gz'))"
   ]
  },
  {
   "cell_type": "code",
   "execution_count": 22,
   "id": "52bd99cd",
   "metadata": {},
   "outputs": [
    {
     "name": "stdout",
     "output_type": "stream",
     "text": [
      "1.nii.gz\n",
      "(0.400390625, 0.400390625, 0.5) (0.400390625, 0.400390625, 0.5)\n",
      "\n",
      "\n",
      "10.nii.gz\n",
      "(0.400390625, 0.400390625, 0.5) (0.400390625, 0.400390625, 0.5)\n",
      "\n",
      "\n",
      "11.nii.gz\n",
      "(0.44921875, 0.44921875, 0.5) (0.44921875, 0.44921875, 0.5)\n",
      "\n",
      "\n",
      "12.nii.gz\n",
      "(0.4296875, 0.4296875, 0.5) (0.4296875, 0.4296875, 0.5)\n",
      "\n",
      "\n",
      "13.nii.gz\n",
      "(0.400390625, 0.400390625, 0.5) (0.400390625, 0.400390625, 0.5)\n",
      "\n",
      "\n",
      "14.nii.gz\n",
      "(0.400390625, 0.400390625, 0.5) (0.400390625, 0.400390625, 0.5)\n",
      "\n",
      "\n",
      "15.nii.gz\n",
      "(0.400390625, 0.400390625, 0.5) (0.400390625, 0.400390625, 0.5)\n",
      "\n",
      "\n",
      "16.nii.gz\n",
      "(0.419921875, 0.419921875, 0.5) (0.419921875, 0.419921875, 0.5)\n",
      "\n",
      "\n",
      "17.nii.gz\n",
      "(0.4296875, 0.4296875, 0.5) (0.4296875, 0.4296875, 0.5)\n",
      "\n",
      "\n",
      "18.nii.gz\n",
      "(0.4296875, 0.4296875, 3.0) (0.4296875, 0.4296875, 3.0)\n",
      "\n",
      "\n",
      "19.nii.gz\n",
      "(0.373046875, 0.373046875, 3.0) (0.373046875, 0.373046875, 3.0)\n",
      "\n",
      "\n",
      "2.nii.gz\n",
      "(0.46875, 0.46875, 0.5) (0.46875, 0.46875, 0.5)\n",
      "\n",
      "\n",
      "20.nii.gz\n",
      "(0.400390625, 0.400390625, 0.5) (0.400390625, 0.400390625, 0.5)\n",
      "\n",
      "\n",
      "21.nii.gz\n",
      "(0.3515619933605194, 0.3515619933605194, 1.25) (0.3515619933605194, 0.3515619933605194, 1.25)\n",
      "\n",
      "\n",
      "22.nii.gz\n",
      "(0.400390625, 0.400390625, 3.0) (0.400390625, 0.400390625, 3.0)\n",
      "\n",
      "\n",
      "23.nii.gz\n",
      "(0.3515619933605194, 0.3515619933605194, 1.25) (1.0, 1.0, 1.0)\n",
      "\n",
      "\n",
      "24.nii.gz\n",
      "(0.44921875, 0.44921875, 3.0) (1.0, 1.0, 1.0)\n",
      "\n",
      "\n",
      "25.nii.gz\n",
      "(0.3515619933605194, 0.3515619933605194, 1.25) (1.0, 1.0, 1.0)\n",
      "\n",
      "\n",
      "26.nii.gz\n",
      "(0.46875, 0.46875, 3.0) (1.0, 1.0, 1.0)\n",
      "\n",
      "\n",
      "27.nii.gz\n",
      "(0.46484375, 0.46484375, 0.5) (1.0, 1.0, 1.0)\n",
      "\n",
      "\n",
      "28.nii.gz\n",
      "(0.3515625, 0.3515625, 1.5) (1.0, 1.0, 1.0)\n",
      "\n",
      "\n",
      "29.nii.gz\n",
      "(0.3515625, 0.3515625, 1.0) (1.0, 1.0, 1.0)\n",
      "\n",
      "\n",
      "3.nii.gz\n",
      "(0.400390625, 0.400390625, 0.5) (0.400390625, 0.400390625, 0.5)\n",
      "\n",
      "\n",
      "30.nii.gz\n",
      "(0.4296875, 0.4296875, 3.0) (1.0, 1.0, 1.0)\n",
      "\n",
      "\n",
      "31.nii.gz\n",
      "(0.400390625, 0.400390625, 3.0) (1.0, 1.0, 1.0)\n",
      "\n",
      "\n",
      "32.nii.gz\n",
      "(0.400390625, 0.400390625, 0.5) (1.0, 1.0, 1.0)\n",
      "\n",
      "\n",
      "33.nii.gz\n",
      "(0.3515625, 0.3515625, 1.0) (1.0, 1.0, 1.0)\n",
      "\n",
      "\n",
      "34.nii.gz\n",
      "(0.3515625, 0.3515625, 1.0) (1.0, 1.0, 1.0)\n",
      "\n",
      "\n",
      "35.nii.gz\n",
      "(0.46875, 0.46875, 1.0) (1.0, 1.0, 1.0)\n",
      "\n",
      "\n",
      "36.nii.gz\n",
      "(0.3515625, 0.3515625, 1.5) (1.0, 1.0, 1.0)\n",
      "\n",
      "\n",
      "37.nii.gz\n",
      "(0.400390625, 0.400390625, 3.0) (1.0, 1.0, 1.0)\n",
      "\n",
      "\n",
      "38.nii.gz\n",
      "(0.400390625, 0.400390625, 3.0) (1.0, 1.0, 1.0)\n",
      "\n",
      "\n",
      "39.nii.gz\n",
      "(0.44921875, 0.44921875, 0.5) (1.0, 1.0, 1.0)\n",
      "\n",
      "\n",
      "4.nii.gz\n",
      "(0.400390625, 0.400390625, 0.5) (0.400390625, 0.400390625, 0.5)\n",
      "\n",
      "\n",
      "40.nii.gz\n",
      "(0.419921875, 0.419921875, 3.0) (1.0, 1.0, 1.0)\n",
      "\n",
      "\n",
      "41.nii.gz\n",
      "(0.41015625, 0.41015625, 3.0) (1.0, 1.0, 1.0)\n",
      "\n",
      "\n",
      "42.nii.gz\n",
      "(0.400390625, 0.400390625, 3.0) (1.0, 1.0, 1.0)\n",
      "\n",
      "\n",
      "43.nii.gz\n",
      "(0.400390625, 0.400390625, 3.0) (1.0, 1.0, 1.0)\n",
      "\n",
      "\n",
      "44.nii.gz\n",
      "(0.3515625, 0.3515625, 1.5) (1.0, 1.0, 1.0)\n",
      "\n",
      "\n",
      "45.nii.gz\n",
      "(0.44140625, 0.44140625, 0.5) (1.0, 1.0, 1.0)\n",
      "\n",
      "\n",
      "6.nii.gz\n",
      "(0.44921875, 0.44921875, 0.5) (0.44921875, 0.44921875, 0.5)\n",
      "\n",
      "\n",
      "7.nii.gz\n",
      "(0.431640625, 0.431640625, 0.5) (0.431640625, 0.431640625, 0.5)\n",
      "\n",
      "\n",
      "8.nii.gz\n",
      "(0.48828125, 0.48828125, 0.5) (0.48828125, 0.48828125, 0.5)\n",
      "\n",
      "\n",
      "9.nii.gz\n",
      "(0.4296875, 0.4296875, 0.5) (0.4296875, 0.4296875, 0.5)\n",
      "\n",
      "\n"
     ]
    }
   ],
   "source": [
    "for image_path,label_path in zip(vol_paths, masks_paths):\n",
    "    subject = tio.Subject(\n",
    "        image=tio.ScalarImage(image_path),\n",
    "        label=tio.LabelMap(label_path),\n",
    "    )\n",
    "    print(image_path.split('/')[-1])\n",
    "    print(subject.image.spacing, subject.label.spacing)\n",
    "    print('\\n')"
   ]
  },
  {
   "cell_type": "markdown",
   "id": "e860e1e2",
   "metadata": {},
   "source": [
    "# Resize check"
   ]
  },
  {
   "cell_type": "code",
   "execution_count": 29,
   "id": "c9f61128",
   "metadata": {},
   "outputs": [],
   "source": [
    "vol_path = '/media/trojan/evo/3D-CT-Artery-Segmentation/data/data_new/data_splitted/train/volumes/18.nii.gz'\n",
    "mask_path = '/media/trojan/evo/3D-CT-Artery-Segmentation/data/data_new/data_splitted/train/masks/18.nii.gz'\n",
    "out_dir = '/media/trojan/evo/3D-CT-Artery-Segmentation/data/data_new'"
   ]
  },
  {
   "cell_type": "code",
   "execution_count": 30,
   "id": "53ed96c4",
   "metadata": {},
   "outputs": [],
   "source": [
    "transform_resize = tio.Resize(target_shape=(512,512,512))"
   ]
  },
  {
   "cell_type": "code",
   "execution_count": 31,
   "id": "5f03cc0a",
   "metadata": {},
   "outputs": [],
   "source": [
    "subject = tio.Subject(\n",
    "    image=tio.ScalarImage(vol_path),\n",
    "    label=tio.LabelMap(mask_path),\n",
    ")\n",
    "output = transform_resize(subject)\n",
    "output.image.save(os.path.join(out_dir, 'volume.nii.gz'))\n",
    "output.label.save(os.path.join(out_dir, 'mask.nii.gz'))"
   ]
  },
  {
   "cell_type": "code",
   "execution_count": null,
   "id": "fed2e207",
   "metadata": {},
   "outputs": [],
   "source": []
  }
 ],
 "metadata": {
  "kernelspec": {
   "display_name": "Python 3 (ipykernel)",
   "language": "python",
   "name": "python3"
  },
  "language_info": {
   "codemirror_mode": {
    "name": "ipython",
    "version": 3
   },
   "file_extension": ".py",
   "mimetype": "text/x-python",
   "name": "python",
   "nbconvert_exporter": "python",
   "pygments_lexer": "ipython3",
   "version": "3.10.4"
  }
 },
 "nbformat": 4,
 "nbformat_minor": 5
}
