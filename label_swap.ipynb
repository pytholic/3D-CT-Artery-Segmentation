{
 "cells": [
  {
   "cell_type": "markdown",
   "id": "f7c068ff",
   "metadata": {},
   "source": [
    "Some files have `facial` as `1` and `temporal` as `2`. This notebook will correct those labels i.e. `temporal` to `1` and `facial` to `2`."
   ]
  },
  {
   "cell_type": "code",
   "execution_count": 18,
   "id": "1d37a5ea",
   "metadata": {},
   "outputs": [],
   "source": [
    "import nibabel as nib\n",
    "import numpy as np\n",
    "import glob, os"
   ]
  },
  {
   "cell_type": "code",
   "execution_count": 19,
   "id": "1e807f6e",
   "metadata": {},
   "outputs": [],
   "source": [
    "def read_nifti_file(filepath):\n",
    "    \"\"\"Read and load volume\"\"\"\n",
    "    # Read file\n",
    "    scan = nib.load(filepath)\n",
    "    # Get raw data\n",
    "    scan = scan.get_fdata()\n",
    "    return scan"
   ]
  },
  {
   "cell_type": "code",
   "execution_count": 20,
   "id": "192f3356",
   "metadata": {},
   "outputs": [],
   "source": [
    "path = '/media/trojan/evo/3D-CT-Artery-Segmentation/data/data_new/data_original/temp/masks'"
   ]
  },
  {
   "cell_type": "code",
   "execution_count": 8,
   "id": "60f305d2",
   "metadata": {},
   "outputs": [
    {
     "name": "stdout",
     "output_type": "stream",
     "text": [
      "(array([0., 1., 2.]), array([38787087,     3519,     6706]))\n",
      "(array([0., 1., 2.]), array([26992928,     3314,     4590]))\n",
      "(array([0., 1., 2.]), array([35626898,     3523,    21163]))\n",
      "(array([0., 1., 2.]), array([19919728,     1123,     2093]))\n",
      "(array([0., 1., 2.]), array([160930364,     11074,     14978]))\n",
      "(array([0., 1., 2.]), array([32223279,     5334,    15099]))\n",
      "(array([0., 1., 2.]), array([49790485,     6682,    10193]))\n",
      "(array([0., 1., 2.]), array([21754055,     1312,     2585]))\n",
      "(array([0., 1., 2.]), array([30141395,     1755,     3410]))\n",
      "(array([0., 1., 2.]), array([132102646,      8279,      9651]))\n",
      "(array([0., 1., 2.]), array([47954119,     6057,    12176]))\n",
      "(array([0., 1., 2.]), array([47950632,     5093,    16627]))\n",
      "(array([0., 1., 2.]), array([61323288,     4047,    14361]))\n",
      "(array([0., 1., 2.]), array([34061295,     5287,    12138]))\n",
      "(array([0., 1., 2.]), array([20181520,     1530,     2038]))\n",
      "(array([0., 1., 2.]), array([25423241,     2132,     2595]))\n",
      "(array([0., 1., 2.]), array([133671986,      9127,     12327]))\n",
      "(array([0., 1., 2.]), array([26205061,     2095,     7244]))\n",
      "(array([0., 1., 2.]), array([26209051,     1609,     3740]))\n",
      "(array([0., 1., 2.]), array([26731608,     3446,     3634]))\n",
      "(array([0., 1., 2.]), array([20703780,     2156,     3440]))\n",
      "(array([0., 1., 2.]), array([32226399,     2029,    15284]))\n",
      "(array([0., 1., 2.]), array([176122561,     18161,     20046]))\n"
     ]
    }
   ],
   "source": [
    "for mask in glob.glob(path + '/*.nii.gz'):\n",
    "    label = read_nifti_file(mask)\n",
    "    print(np.unique(label, return_counts=True))"
   ]
  },
  {
   "cell_type": "markdown",
   "id": "65c31d64",
   "metadata": {},
   "source": [
    "`Temporal` has more number of points than `facial` always. But here that is not the case which means labels are reversed."
   ]
  },
  {
   "cell_type": "code",
   "execution_count": 21,
   "id": "b275d6ef",
   "metadata": {},
   "outputs": [],
   "source": [
    "out_path = '/media/trojan/evo/3D-CT-Artery-Segmentation/data/data_new/data_original/temp/fixed_masks'"
   ]
  },
  {
   "cell_type": "code",
   "execution_count": 25,
   "id": "0d07e9e0",
   "metadata": {},
   "outputs": [],
   "source": [
    "# Fix the labels\n",
    "for mask in glob.glob(path + '/*.nii.gz'):\n",
    "    name = mask.split('/')[-1]\n",
    "    label = read_nifti_file(mask)\n",
    "    label[label==2] = 999  # placeholder value\n",
    "    label[label==1] = 2\n",
    "    label[label==999] = 1\n",
    "    label_arr = nib.Nifti1Image(label, None)\n",
    "    nib.save(label_arr, os.path.join(out_path, name))"
   ]
  },
  {
   "cell_type": "code",
   "execution_count": 26,
   "id": "62a5f08b",
   "metadata": {},
   "outputs": [
    {
     "name": "stdout",
     "output_type": "stream",
     "text": [
      "(array([0., 1., 2.]), array([38787087,     6706,     3519]))\n",
      "(array([0., 1., 2.]), array([26992928,     4590,     3314]))\n",
      "(array([0., 1., 2.]), array([35626898,    21163,     3523]))\n",
      "(array([0., 1., 2.]), array([19919728,     2093,     1123]))\n",
      "(array([0., 1., 2.]), array([160930364,     14978,     11074]))\n",
      "(array([0., 1., 2.]), array([32223279,    15099,     5334]))\n",
      "(array([0., 1., 2.]), array([49790485,    10193,     6682]))\n",
      "(array([0., 1., 2.]), array([21754055,     2585,     1312]))\n",
      "(array([0., 1., 2.]), array([30141395,     3410,     1755]))\n",
      "(array([0., 1., 2.]), array([132102646,      9651,      8279]))\n",
      "(array([0., 1., 2.]), array([47954119,    12176,     6057]))\n",
      "(array([0., 1., 2.]), array([47950632,    16627,     5093]))\n",
      "(array([0., 1., 2.]), array([61323288,    14361,     4047]))\n",
      "(array([0., 1., 2.]), array([34061295,    12138,     5287]))\n",
      "(array([0., 1., 2.]), array([20181520,     2038,     1530]))\n",
      "(array([0., 1., 2.]), array([25423241,     2595,     2132]))\n",
      "(array([0., 1., 2.]), array([133671986,     12327,      9127]))\n",
      "(array([0., 1., 2.]), array([26205061,     7244,     2095]))\n",
      "(array([0., 1., 2.]), array([26209051,     3740,     1609]))\n",
      "(array([0., 1., 2.]), array([26731608,     3634,     3446]))\n",
      "(array([0., 1., 2.]), array([20703780,     3440,     2156]))\n",
      "(array([0., 1., 2.]), array([32226399,    15284,     2029]))\n",
      "(array([0., 1., 2.]), array([176122561,     20046,     18161]))\n"
     ]
    }
   ],
   "source": [
    "for mask in glob.glob(out_path + '/*.nii.gz'):\n",
    "    label = read_nifti_file(mask)\n",
    "    print(np.unique(label, return_counts=True))"
   ]
  },
  {
   "cell_type": "code",
   "execution_count": null,
   "id": "b00164f1",
   "metadata": {},
   "outputs": [],
   "source": []
  }
 ],
 "metadata": {
  "kernelspec": {
   "display_name": "Python 3 (ipykernel)",
   "language": "python",
   "name": "python3"
  },
  "language_info": {
   "codemirror_mode": {
    "name": "ipython",
    "version": 3
   },
   "file_extension": ".py",
   "mimetype": "text/x-python",
   "name": "python",
   "nbconvert_exporter": "python",
   "pygments_lexer": "ipython3",
   "version": "3.10.4"
  }
 },
 "nbformat": 4,
 "nbformat_minor": 5
}
