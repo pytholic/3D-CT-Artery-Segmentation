{
 "cells": [
  {
   "cell_type": "markdown",
   "id": "c3b24678",
   "metadata": {},
   "source": [
    "# Imports and setup"
   ]
  },
  {
   "cell_type": "code",
   "execution_count": 1,
   "id": "9d4c940d",
   "metadata": {
    "scrolled": true
   },
   "outputs": [
    {
     "name": "stdout",
     "output_type": "stream",
     "text": [
      "MONAI version: 0.9.dev2223\n",
      "Numpy version: 1.22.3\n",
      "Pytorch version: 1.11.0\n",
      "MONAI flags: HAS_EXT = False, USE_COMPILED = False\n",
      "MONAI rev id: 0428f5a29f1fdc577f2c558490266d9db00583e3\n",
      "MONAI __file__: /home/trojan/anaconda3/envs/monai/lib/python3.10/site-packages/monai/__init__.py\n",
      "\n",
      "Optional dependencies:\n",
      "Pytorch Ignite version: NOT INSTALLED or UNKNOWN VERSION.\n",
      "Nibabel version: 3.2.2\n",
      "scikit-image version: 0.19.2\n",
      "Pillow version: 9.0.1\n",
      "Tensorboard version: NOT INSTALLED or UNKNOWN VERSION.\n",
      "gdown version: NOT INSTALLED or UNKNOWN VERSION.\n",
      "TorchVision version: 0.12.0\n",
      "tqdm version: 4.64.0\n",
      "lmdb version: NOT INSTALLED or UNKNOWN VERSION.\n",
      "psutil version: 5.9.1\n",
      "pandas version: 1.4.2\n",
      "einops version: 0.4.1\n",
      "transformers version: NOT INSTALLED or UNKNOWN VERSION.\n",
      "mlflow version: NOT INSTALLED or UNKNOWN VERSION.\n",
      "pynrrd version: 0.4.3\n",
      "\n",
      "For details about installing the optional dependencies, please visit:\n",
      "    https://docs.monai.io/en/latest/installation.html#installing-the-recommended-dependencies\n",
      "\n"
     ]
    }
   ],
   "source": [
    "import os, glob\n",
    "import shutil\n",
    "import tempfile\n",
    "\n",
    "import matplotlib.pyplot as plt\n",
    "import numpy as np\n",
    "from tqdm.notebook import tqdm\n",
    "\n",
    "from monai.losses import *\n",
    "from monai.inferers import sliding_window_inference, SimpleInferer\n",
    "from monai.transforms import (\n",
    "    AsDiscrete,\n",
    "    AddChanneld,\n",
    "    Compose,\n",
    "    CropForegroundd,\n",
    "    LoadImaged,\n",
    "    Orientationd,\n",
    "    RandFlipd,\n",
    "    RandShiftIntensityd,\n",
    "    ScaleIntensityRanged,\n",
    "    Spacingd,\n",
    "    ToTensord,\n",
    "    Resized,\n",
    "    RandRotate90d,\n",
    "    RandCropByPosNegLabeld,\n",
    "    NormalizeIntensityd\n",
    ")\n",
    "\n",
    "from monai.config import print_config\n",
    "from monai.metrics import DiceMetric\n",
    "from monai.networks.nets import UNETR, UNet, AttentionUnet, SwinUNETR, VNet\n",
    "from monai.networks.layers import Norm\n",
    "\n",
    "from monai.data import (\n",
    "    DataLoader,\n",
    "    Dataset,\n",
    "    CacheDataset,\n",
    "    load_decathlon_datalist,\n",
    "    decollate_batch,\n",
    ")\n",
    "\n",
    "#from monai.data.utils import pad_list_data_collate\n",
    "\n",
    "import torch\n",
    "\n",
    "%matplotlib inline\n",
    "\n",
    "print_config()"
   ]
  },
  {
   "cell_type": "code",
   "execution_count": 2,
   "id": "da0ac67c",
   "metadata": {
    "scrolled": false
   },
   "outputs": [
    {
     "name": "stdout",
     "output_type": "stream",
     "text": [
      "/home/trojan/skia_projects/3D-CT-Artery-Segmentation/monai/monai_data_directory\n"
     ]
    }
   ],
   "source": [
    "root_dir = os.path.join(os.getcwd(), \"monai_data_directory\")\n",
    "INPUT_SIZE = (512,512,16)  # will resize later\n",
    "print(root_dir)"
   ]
  },
  {
   "cell_type": "markdown",
   "id": "cf4ca5f7",
   "metadata": {},
   "source": [
    "# Setup transforms for training and validation"
   ]
  },
  {
   "cell_type": "code",
   "execution_count": 3,
   "id": "ba35b30b",
   "metadata": {
    "scrolled": true
   },
   "outputs": [],
   "source": [
    "train_transforms = Compose(\n",
    "    [\n",
    "        LoadImaged(keys=[\"image\", \"label\"]),\n",
    "        AddChanneld(keys=[\"image\", \"label\"]),\n",
    "        Orientationd(keys=[\"image\", \"label\"], axcodes=\"RAS\"),\n",
    "#         Spacingd(\n",
    "#             keys=[\"image\", \"label\"],\n",
    "#             pixdim=(1.0,1.0,1.0),\n",
    "#             mode=(\"bilinear\", \"nearest\"),\n",
    "#         ),\n",
    "        ScaleIntensityRanged(\n",
    "            keys=[\"image\"],\n",
    "            a_min=-175,\n",
    "            a_max=250,\n",
    "            b_min=0.0,\n",
    "            b_max=1.0,\n",
    "            clip=True,\n",
    "        ),\n",
    "        #NormalizeIntensityd(keys=[\"image\"]),\n",
    "        #CropForegroundd(keys=[\"image\", \"label\"], source_key=\"image\"),\n",
    "        #Resized(keys=[\"image\", \"label\"], spatial_size=INPUT_SIZE, mode=('trilinear','nearest-exact')),\n",
    "#         RandFlipd(\n",
    "#             keys=[\"image\", \"label\"],\n",
    "#             spatial_axis=[0],\n",
    "#             prob=0.10,\n",
    "#         ),\n",
    "#         RandFlipd(\n",
    "#             keys=[\"image\", \"label\"],\n",
    "#             spatial_axis=[1],\n",
    "#             prob=0.10,\n",
    "#         ),\n",
    "#         RandFlipd(\n",
    "#             keys=[\"image\", \"label\"],\n",
    "#             spatial_axis=[2],\n",
    "#             prob=0.10,\n",
    "#         ),\n",
    "#         RandRotate90d(\n",
    "#             keys=[\"image\", \"label\"],\n",
    "#             prob=0.10,\n",
    "#             max_k=3,\n",
    "#         ),\n",
    "#         RandShiftIntensityd(\n",
    "#             keys=[\"image\"],\n",
    "#             offsets=0.10,\n",
    "#             prob=0.50,\n",
    "#         ),\n",
    "        ToTensord(keys=[\"image\", \"label\"]),\n",
    "    ]\n",
    ")\n",
    "\n",
    "val_transforms = Compose(\n",
    "    [\n",
    "        LoadImaged(keys=[\"image\", \"label\"]),\n",
    "        AddChanneld(keys=[\"image\", \"label\"]),\n",
    "        Orientationd(keys=[\"image\", \"label\"], axcodes=\"RAS\"),\n",
    "#         Spacingd(\n",
    "#             keys=[\"image\", \"label\"],\n",
    "#             pixdim=(1.0,1.0,1.0),\n",
    "#             mode=(\"bilinear\", \"nearest\"),\n",
    "#         ),\n",
    "        ScaleIntensityRanged(\n",
    "            keys=[\"image\"], a_min=-175, a_max=250, b_min=0.0, b_max=1.0, clip=True\n",
    "        ),\n",
    "        #NormalizeIntensityd(keys=[\"image\"]),\n",
    "        #CropForegroundd(keys=[\"image\", \"label\"], source_key=\"image\"),\n",
    "#         Resized(keys=[\"image\", \"label\"], spatial_size=INPUT_SIZE, mode='nearest-exact'),\n",
    "        ToTensord(keys=[\"image\", \"label\"]),\n",
    "    ]\n",
    ")"
   ]
  },
  {
   "cell_type": "markdown",
   "id": "56ee24ce",
   "metadata": {},
   "source": [
    "# Dataset and data loaders"
   ]
  },
  {
   "cell_type": "code",
   "execution_count": 4,
   "id": "467af677",
   "metadata": {
    "scrolled": true
   },
   "outputs": [],
   "source": [
    "data_dir = '/media/trojan/evo/3D-CT-Artery-Segmentation/data/data_old/data_512x512x16/data_16_groups'\n",
    "#data_dir = '/media/trojan/evo/3D-CT-Artery-Segmentation/data/data_new/temp/data_16_groups'\n",
    "\n",
    "train_images_path = os.path.join(data_dir, 'train/images')\n",
    "train_labels_path = os.path.join(data_dir, 'train/labels')\n",
    "val_images_path = os.path.join(data_dir, 'val/images')\n",
    "val_labels_path = os.path.join(data_dir, 'val/labels')\n",
    "\n",
    "train_images_list = sorted(glob.glob(train_images_path + '/*.nii.gz'))\n",
    "train_labels_list = sorted(glob.glob(train_labels_path + '/*.nii.gz'))\n",
    "val_images_list = sorted(glob.glob(val_images_path + '/*.nii.gz'))\n",
    "val_labels_list = sorted(glob.glob(val_labels_path + '/*.nii.gz'))\n",
    "\n",
    "train_files = [{'image': image_name, 'label': label_name} for image_name,label_name in zip(train_images_list, train_labels_list)]\n",
    "val_files = [{'image': image_name, 'label': label_name} for image_name,label_name in zip(val_images_list, val_labels_list)]"
   ]
  },
  {
   "cell_type": "code",
   "execution_count": 5,
   "id": "a94a342b",
   "metadata": {
    "scrolled": true
   },
   "outputs": [
    {
     "name": "stdout",
     "output_type": "stream",
     "text": [
      "1991\n",
      "513\n"
     ]
    }
   ],
   "source": [
    "print(len(train_files))\n",
    "print(len(val_files))"
   ]
  },
  {
   "cell_type": "code",
   "execution_count": 6,
   "id": "a11a4c42",
   "metadata": {
    "scrolled": false
   },
   "outputs": [
    {
     "name": "stderr",
     "output_type": "stream",
     "text": [
      "Loading dataset: 100%|████████████████████████| 331/331 [01:31<00:00,  3.60it/s]\n",
      "Loading dataset: 100%|████████████████████████| 256/256 [01:08<00:00,  3.73it/s]\n"
     ]
    }
   ],
   "source": [
    "train_ds = CacheDataset(\n",
    "    data=train_files,\n",
    "    transform=train_transforms,\n",
    "    cache_num=len(train_files) // 6,\n",
    "    cache_rate=1.0,\n",
    ")\n",
    "train_loader = DataLoader(\n",
    "    train_ds, batch_size=1, shuffle=True, pin_memory=True,\n",
    ")\n",
    "val_ds = CacheDataset(\n",
    "    data=val_files, transform=val_transforms, cache_num=len(val_files) // 2, cache_rate=1.0\n",
    ")\n",
    "val_loader = DataLoader(\n",
    "    val_ds, batch_size=1, shuffle=False, pin_memory=True,\n",
    ")"
   ]
  },
  {
   "cell_type": "code",
   "execution_count": 7,
   "id": "afc4f02c",
   "metadata": {
    "scrolled": true
   },
   "outputs": [],
   "source": [
    "# train_ds = Dataset(\n",
    "#     data=train_files,\n",
    "#     transform=train_transforms,\n",
    "# )\n",
    "# train_loader = DataLoader(\n",
    "#     train_ds, batch_size=1, shuffle=True, pin_memory=True\n",
    "# )\n",
    "# val_ds = Dataset(\n",
    "#     data=val_files, \n",
    "#     transform=val_transforms\n",
    "# )\n",
    "# val_loader = DataLoader(\n",
    "#     val_ds, batch_size=1, shuffle=False, pin_memory=True\n",
    "# )"
   ]
  },
  {
   "cell_type": "code",
   "execution_count": 8,
   "id": "96694bc7",
   "metadata": {
    "scrolled": false
   },
   "outputs": [
    {
     "name": "stdout",
     "output_type": "stream",
     "text": [
      "image shape: torch.Size([1, 512, 512, 16]), label shape: torch.Size([1, 512, 512, 16])\n"
     ]
    },
    {
     "data": {
      "image/png": "[encoded data removed]",
      "text/plain": [
       "<Figure size 1296x432 with 2 Axes>"
      ]
     },
     "metadata": {
      "needs_background": "light"
     },
     "output_type": "display_data"
    }
   ],
   "source": [
    "case_num = 1\n",
    "slice_number = 10\n",
    "\n",
    "data = val_ds[case_num]\n",
    "img = val_ds[case_num][\"image\"]\n",
    "label = val_ds[case_num][\"label\"]\n",
    "img_shape = img.shape\n",
    "label_shape = label.shape\n",
    "print(f\"image shape: {img_shape}, label shape: {label_shape}\")\n",
    "plt.figure(\"image\", (18, 6))\n",
    "plt.subplot(1, 2, 1)\n",
    "plt.title(\"image\")\n",
    "plt.imshow(img[0, :, :, slice_number].detach().cpu(), cmap=\"gray\")\n",
    "plt.subplot(1, 2, 2)\n",
    "plt.title(\"label\")\n",
    "plt.imshow(label[0, :, :, slice_number].detach().cpu())\n",
    "plt.show()"
   ]
  },
  {
   "cell_type": "code",
   "execution_count": 9,
   "id": "58641566",
   "metadata": {
    "scrolled": true
   },
   "outputs": [
    {
     "name": "stdout",
     "output_type": "stream",
     "text": [
      "(array([0., 2.], dtype=float32), array([4190761,    3543]))\n"
     ]
    }
   ],
   "source": [
    "# Check label values\n",
    "print(np.unique(val_ds[case_num][\"label\"], return_counts=True))"
   ]
  },
  {
   "cell_type": "markdown",
   "id": "89203138",
   "metadata": {},
   "source": [
    "# Create model, loss and optimizer"
   ]
  },
  {
   "cell_type": "code",
   "execution_count": 10,
   "id": "4168d091",
   "metadata": {
    "scrolled": true
   },
   "outputs": [],
   "source": [
    "os.environ[\"CUDA_DEVICE_ORDER\"] = \"PCI_BUS_ID\"\n",
    "device = torch.device(\"cuda\" if torch.cuda.is_available() else \"cpu\")\n",
    "\n",
    "# model = VNet(\n",
    "#     in_channels=1,\n",
    "#     out_channels=3,\n",
    "# ).to(device)\n",
    "\n",
    "model = UNETR(\n",
    "    in_channels=1,\n",
    "    out_channels=3,\n",
    "    img_size=INPUT_SIZE,\n",
    "    feature_size=16,\n",
    "    hidden_size=768,\n",
    "    mlp_dim=3072,\n",
    "    num_heads=12,\n",
    "    pos_embed=\"perceptron\",\n",
    "    norm_name=\"instance\",\n",
    "    res_block=True,\n",
    "    dropout_rate=0.0,\n",
    ").to(device)\n",
    "\n",
    "# model = UNet(\n",
    "#     spatial_dims=3,\n",
    "#     in_channels=1,\n",
    "#     out_channels=3,\n",
    "#     channels=(16,32,64,128,256),\n",
    "#     strides=(2,2,2,2),\n",
    "#     num_res_units=2,\n",
    "#     norm=Norm.BATCH,\n",
    "# ).to(device)\n",
    "\n",
    "# model = AttentionUnet(\n",
    "#     spatial_dims=3,\n",
    "#     in_channels=1,\n",
    "#     out_channels=3,\n",
    "#     channels=(16,32,64,128,256),\n",
    "#     strides=(2,2,2,2),\n",
    "#     ).to(device)\n",
    "\n",
    "ce_weight = torch.tensor([1,1000,1000])\n",
    "ce_weight = ce_weight.type(torch.cuda.FloatTensor)\n",
    "\n",
    "loss_function = DiceCELoss(to_onehot_y=True, softmax=True, ce_weight=ce_weight)\n",
    "#loss_function = GeneralizedDiceLoss(to_onehot_y=True, softmax=True)\n",
    "torch.backends.cudnn.benchmark = True\n",
    "optimizer = torch.optim.AdamW(model.parameters(), lr=1e-4, weight_decay=1e-5)\n",
    "inferer = SimpleInferer()"
   ]
  },
  {
   "cell_type": "code",
   "execution_count": null,
   "id": "3a140431",
   "metadata": {},
   "outputs": [],
   "source": [
    "weights_path = os.path.join(root_dir, \"best_metric_model.pth\")\n",
    "if os.path.exists(weights_path):\n",
    "    checkpoint = torch.load(weights_path)\n",
    "    model.load_state_dict(checkpoint)\n",
    "else:\n",
    "    print(\"No checkpoint found.\")"
   ]
  },
  {
   "cell_type": "markdown",
   "id": "973d5527",
   "metadata": {},
   "source": [
    "# Training process"
   ]
  },
  {
   "cell_type": "code",
   "execution_count": 11,
   "id": "4551f51e",
   "metadata": {
    "scrolled": true
   },
   "outputs": [],
   "source": [
    "def validation(epoch_iterator_val):\n",
    "    model.eval()\n",
    "    with torch.no_grad():\n",
    "        for step, batch in enumerate(epoch_iterator_val):\n",
    "            val_inputs, val_labels = (batch[\"image\"].cuda(), batch[\"label\"].cuda())\n",
    "            val_outputs = inferer(val_inputs, model)\n",
    "            #val_outputs = sliding_window_inference(val_inputs, INPUT_SIZE, 4, model)\n",
    "            val_labels_list = decollate_batch(val_labels)\n",
    "            val_labels_convert = [\n",
    "                post_label(val_label_tensor) for val_label_tensor in val_labels_list\n",
    "            ]\n",
    "            val_outputs_list = decollate_batch(val_outputs)\n",
    "            val_output_convert = [\n",
    "                post_pred(val_pred_tensor) for val_pred_tensor in val_outputs_list\n",
    "            ]\n",
    "            dice_metric(y_pred=val_output_convert, y=val_labels_convert)\n",
    "            mean_dice_val = dice_metric.aggregate().item()\n",
    "            epoch_iterator_val.set_description(\n",
    "                \"Validation (Dice=%2.5f)\" % (mean_dice_val)\n",
    "            )\n",
    "        dice_metric.reset()\n",
    "    return mean_dice_val"
   ]
  },
  {
   "cell_type": "code",
   "execution_count": 12,
   "id": "a54db3e9",
   "metadata": {
    "scrolled": true
   },
   "outputs": [],
   "source": [
    "def train(global_step, train_loader, dice_val_best, global_step_best):\n",
    "    model.train()\n",
    "    epoch_loss = 0\n",
    "    step = 0\n",
    "    epoch_iterator = tqdm(\n",
    "        train_loader, desc=\"Training (X / X Steps) (loss=X.X)\", dynamic_ncols=True\n",
    "    )\n",
    "        \n",
    "    for step, batch in enumerate(epoch_iterator):\n",
    "        step += 1\n",
    "        x, y = (batch[\"image\"].cuda(), batch[\"label\"].cuda())\n",
    "        logit_map = model(x)\n",
    "        loss = loss_function(logit_map, y)\n",
    "        loss.backward()\n",
    "        epoch_loss += loss.item()\n",
    "        optimizer.step()\n",
    "        optimizer.zero_grad()\n",
    "        epoch_iterator.set_description(\n",
    "            \"Training (%d / %d Steps) (loss=%2.5f)\" % (global_step, max_iterations, loss)\n",
    "        )\n",
    "        if (\n",
    "            global_step % eval_num == 0 and global_step != 0\n",
    "        ) or global_step == max_iterations:\n",
    "            epoch_iterator_val = tqdm(\n",
    "                val_loader, desc=\"Validation (dice=X.X)\", dynamic_ncols=True\n",
    "            )\n",
    "            dice_val = validation(epoch_iterator_val)\n",
    "            epoch_loss /= step\n",
    "            epoch_loss_values.append(epoch_loss)\n",
    "            metric_values.append(dice_val)\n",
    "            if dice_val > dice_val_best:\n",
    "                dice_val_best = dice_val\n",
    "                global_step_best = global_step\n",
    "                torch.save(\n",
    "                    model.state_dict(), os.path.join(root_dir, \"best_metric_model.pth\")\n",
    "                )\n",
    "                print(\n",
    "                    \"Model Was Saved ! Current Best Avg. Dice: {} Current Avg. Dice: {}\".format(\n",
    "                        dice_val_best, dice_val\n",
    "                    )\n",
    "                )\n",
    "            else:\n",
    "                print(\n",
    "                    \"Model Was Not Saved ! Current Best Avg. Dice: {} Current Avg. Dice: {}\".format(\n",
    "                        dice_val_best, dice_val\n",
    "                    )\n",
    "                )\n",
    "        global_step += 1\n",
    "    return global_step, dice_val_best, global_step_best"
   ]
  },
  {
   "cell_type": "code",
   "execution_count": 13,
   "id": "6d043687",
   "metadata": {
    "scrolled": false
   },
   "outputs": [
    {
     "data": {
      "application/vnd.jupyter.widget-view+json": {
       "model_id": "e8117512ad574e60a0ef08011270ff46",
       "version_major": 2,
       "version_minor": 0
      },
      "text/plain": [
       "Training (X / X Steps) (loss=X.X):   0%|               | 0/1991 [00:00<?, ?it/s]"
      ]
     },
     "metadata": {},
     "output_type": "display_data"
    },
    {
     "data": {
      "application/vnd.jupyter.widget-view+json": {
       "model_id": "9c7b513fda114729b1f5e8fada36ee71",
       "version_major": 2,
       "version_minor": 0
      },
      "text/plain": [
       "Training (X / X Steps) (loss=X.X):   0%|               | 0/1991 [00:00<?, ?it/s]"
      ]
     },
     "metadata": {},
     "output_type": "display_data"
    },
    {
     "data": {
      "application/vnd.jupyter.widget-view+json": {
       "model_id": "f9614b8609cf4c3e959bd9a7a130bb6e",
       "version_major": 2,
       "version_minor": 0
      },
      "text/plain": [
       "Validation (dice=X.X):   0%|                            | 0/513 [00:00<?, ?it/s]"
      ]
     },
     "metadata": {},
     "output_type": "display_data"
    },
    {
     "name": "stdout",
     "output_type": "stream",
     "text": [
      "Model Was Saved ! Current Best Avg. Dice: 0.49722591042518616 Current Avg. Dice: 0.49722591042518616\n"
     ]
    },
    {
     "data": {
      "application/vnd.jupyter.widget-view+json": {
       "model_id": "f9add786ca00454792f2a4b0de1fb17d",
       "version_major": 2,
       "version_minor": 0
      },
      "text/plain": [
       "Training (X / X Steps) (loss=X.X):   0%|               | 0/1991 [00:00<?, ?it/s]"
      ]
     },
     "metadata": {},
     "output_type": "display_data"
    },
    {
     "data": {
      "application/vnd.jupyter.widget-view+json": {
       "model_id": "3919fd5f07f742399acff36143a13846",
       "version_major": 2,
       "version_minor": 0
      },
      "text/plain": [
       "Validation (dice=X.X):   0%|                            | 0/513 [00:00<?, ?it/s]"
      ]
     },
     "metadata": {},
     "output_type": "display_data"
    },
    {
     "name": "stdout",
     "output_type": "stream",
     "text": [
      "Model Was Saved ! Current Best Avg. Dice: 0.5022158622741699 Current Avg. Dice: 0.5022158622741699\n"
     ]
    },
    {
     "data": {
      "application/vnd.jupyter.widget-view+json": {
       "model_id": "0597a43d5f4d4096b539bb9ba33b2364",
       "version_major": 2,
       "version_minor": 0
      },
      "text/plain": [
       "Training (X / X Steps) (loss=X.X):   0%|               | 0/1991 [00:00<?, ?it/s]"
      ]
     },
     "metadata": {},
     "output_type": "display_data"
    },
    {
     "data": {
      "application/vnd.jupyter.widget-view+json": {
       "model_id": "cc4e6fbe33d54fceaab3e43cb6691536",
       "version_major": 2,
       "version_minor": 0
      },
      "text/plain": [
       "Validation (dice=X.X):   0%|                            | 0/513 [00:00<?, ?it/s]"
      ]
     },
     "metadata": {},
     "output_type": "display_data"
    },
    {
     "name": "stdout",
     "output_type": "stream",
     "text": [
      "Model Was Saved ! Current Best Avg. Dice: 0.5045311450958252 Current Avg. Dice: 0.5045311450958252\n"
     ]
    },
    {
     "data": {
      "application/vnd.jupyter.widget-view+json": {
       "model_id": "a9435358df894c05bfb381c3f464909d",
       "version_major": 2,
       "version_minor": 0
      },
      "text/plain": [
       "Training (X / X Steps) (loss=X.X):   0%|               | 0/1991 [00:00<?, ?it/s]"
      ]
     },
     "metadata": {},
     "output_type": "display_data"
    },
    {
     "data": {
      "application/vnd.jupyter.widget-view+json": {
       "model_id": "5212056a649f493a823b274d20345c02",
       "version_major": 2,
       "version_minor": 0
      },
      "text/plain": [
       "Validation (dice=X.X):   0%|                            | 0/513 [00:00<?, ?it/s]"
      ]
     },
     "metadata": {},
     "output_type": "display_data"
    },
    {
     "name": "stdout",
     "output_type": "stream",
     "text": [
      "Model Was Saved ! Current Best Avg. Dice: 0.5097795724868774 Current Avg. Dice: 0.5097795724868774\n"
     ]
    },
    {
     "data": {
      "application/vnd.jupyter.widget-view+json": {
       "model_id": "bd6d07383a6b4720920150f9197f1862",
       "version_major": 2,
       "version_minor": 0
      },
      "text/plain": [
       "Training (X / X Steps) (loss=X.X):   0%|               | 0/1991 [00:00<?, ?it/s]"
      ]
     },
     "metadata": {},
     "output_type": "display_data"
    },
    {
     "data": {
      "application/vnd.jupyter.widget-view+json": {
       "model_id": "4392140779d340d48d675c7345584365",
       "version_major": 2,
       "version_minor": 0
      },
      "text/plain": [
       "Validation (dice=X.X):   0%|                            | 0/513 [00:00<?, ?it/s]"
      ]
     },
     "metadata": {},
     "output_type": "display_data"
    },
    {
     "name": "stdout",
     "output_type": "stream",
     "text": [
      "Model Was Not Saved ! Current Best Avg. Dice: 0.5097795724868774 Current Avg. Dice: 0.5059906244277954\n"
     ]
    },
    {
     "data": {
      "application/vnd.jupyter.widget-view+json": {
       "model_id": "7114c5c7b7254ba5b7d0c994e4b7646c",
       "version_major": 2,
       "version_minor": 0
      },
      "text/plain": [
       "Training (X / X Steps) (loss=X.X):   0%|               | 0/1991 [00:00<?, ?it/s]"
      ]
     },
     "metadata": {},
     "output_type": "display_data"
    },
    {
     "data": {
      "application/vnd.jupyter.widget-view+json": {
       "model_id": "13a4bd4a1bc842e3bd0a2a374e87c972",
       "version_major": 2,
       "version_minor": 0
      },
      "text/plain": [
       "Validation (dice=X.X):   0%|                            | 0/513 [00:00<?, ?it/s]"
      ]
     },
     "metadata": {},
     "output_type": "display_data"
    },
    {
     "name": "stdout",
     "output_type": "stream",
     "text": [
      "Model Was Saved ! Current Best Avg. Dice: 0.5242955088615417 Current Avg. Dice: 0.5242955088615417\n"
     ]
    },
    {
     "data": {
      "application/vnd.jupyter.widget-view+json": {
       "model_id": "2fe0324c474a451a85e90cb2eaa807ae",
       "version_major": 2,
       "version_minor": 0
      },
      "text/plain": [
       "Training (X / X Steps) (loss=X.X):   0%|               | 0/1991 [00:00<?, ?it/s]"
      ]
     },
     "metadata": {},
     "output_type": "display_data"
    },
    {
     "data": {
      "application/vnd.jupyter.widget-view+json": {
       "model_id": "75f1129300a84a3da57f5a8833d613e4",
       "version_major": 2,
       "version_minor": 0
      },
      "text/plain": [
       "Validation (dice=X.X):   0%|                            | 0/513 [00:00<?, ?it/s]"
      ]
     },
     "metadata": {},
     "output_type": "display_data"
    },
    {
     "name": "stdout",
     "output_type": "stream",
     "text": [
      "Model Was Saved ! Current Best Avg. Dice: 0.5462619066238403 Current Avg. Dice: 0.5462619066238403\n"
     ]
    },
    {
     "ename": "KeyboardInterrupt",
     "evalue": "",
     "output_type": "error",
     "traceback": [
      "\u001b[0;31m---------------------------------------------------------------------------\u001b[0m",
      "\u001b[0;31mKeyboardInterrupt\u001b[0m                         Traceback (most recent call last)",
      "Input \u001b[0;32mIn [13]\u001b[0m, in \u001b[0;36m<cell line: 11>\u001b[0;34m()\u001b[0m\n\u001b[1;32m     10\u001b[0m metric_values \u001b[38;5;241m=\u001b[39m []\n\u001b[1;32m     11\u001b[0m \u001b[38;5;28;01mwhile\u001b[39;00m global_step \u001b[38;5;241m<\u001b[39m max_iterations:\n\u001b[0;32m---> 12\u001b[0m     global_step, dice_val_best, global_step_best \u001b[38;5;241m=\u001b[39m \u001b[43mtrain\u001b[49m\u001b[43m(\u001b[49m\n\u001b[1;32m     13\u001b[0m \u001b[43m        \u001b[49m\u001b[43mglobal_step\u001b[49m\u001b[43m,\u001b[49m\u001b[43m \u001b[49m\u001b[43mtrain_loader\u001b[49m\u001b[43m,\u001b[49m\u001b[43m \u001b[49m\u001b[43mdice_val_best\u001b[49m\u001b[43m,\u001b[49m\u001b[43m \u001b[49m\u001b[43mglobal_step_best\u001b[49m\n\u001b[1;32m     14\u001b[0m \u001b[43m    \u001b[49m\u001b[43m)\u001b[49m\n\u001b[1;32m     15\u001b[0m model\u001b[38;5;241m.\u001b[39mload_state_dict(torch\u001b[38;5;241m.\u001b[39mload(os\u001b[38;5;241m.\u001b[39mpath\u001b[38;5;241m.\u001b[39mjoin(root_dir, \u001b[38;5;124m\"\u001b[39m\u001b[38;5;124mbest_metric_model.pth\u001b[39m\u001b[38;5;124m\"\u001b[39m)))\n",
      "Input \u001b[0;32mIn [12]\u001b[0m, in \u001b[0;36mtrain\u001b[0;34m(global_step, train_loader, dice_val_best, global_step_best)\u001b[0m\n\u001b[1;32m     20\u001b[0m loss \u001b[38;5;241m=\u001b[39m loss_function(logit_map, y)\n\u001b[1;32m     21\u001b[0m loss\u001b[38;5;241m.\u001b[39mbackward()\n\u001b[0;32m---> 22\u001b[0m epoch_loss \u001b[38;5;241m+\u001b[39m\u001b[38;5;241m=\u001b[39m \u001b[43mloss\u001b[49m\u001b[38;5;241;43m.\u001b[39;49m\u001b[43mitem\u001b[49m\u001b[43m(\u001b[49m\u001b[43m)\u001b[49m\n\u001b[1;32m     23\u001b[0m optimizer\u001b[38;5;241m.\u001b[39mstep()\n\u001b[1;32m     24\u001b[0m optimizer\u001b[38;5;241m.\u001b[39mzero_grad()\n",
      "\u001b[0;31mKeyboardInterrupt\u001b[0m: "
     ]
    }
   ],
   "source": [
    "max_iterations = int(len(train_ds) * 300)\n",
    "eval_num = len(train_ds)\n",
    "post_label = AsDiscrete(to_onehot=3)\n",
    "post_pred = AsDiscrete(argmax=True, to_onehot=3)\n",
    "dice_metric = DiceMetric(include_background=True, reduction=\"mean\", get_not_nans=False)\n",
    "global_step = 0\n",
    "dice_val_best = 0.0\n",
    "global_step_best = 0\n",
    "epoch_loss_values = []\n",
    "metric_values = []\n",
    "while global_step < max_iterations:\n",
    "    global_step, dice_val_best, global_step_best = train(\n",
    "        global_step, train_loader, dice_val_best, global_step_best\n",
    "    )\n",
    "model.load_state_dict(torch.load(os.path.join(root_dir, \"best_metric_model.pth\")))"
   ]
  },
  {
   "cell_type": "code",
   "execution_count": null,
   "id": "8535ccc4",
   "metadata": {
    "scrolled": true
   },
   "outputs": [],
   "source": [
    "print(\n",
    "    f\"train completed, best_metric: {dice_val_best:.4f} \"\n",
    "    f\"at iteration: {global_step_best}\"\n",
    ")"
   ]
  },
  {
   "cell_type": "code",
   "execution_count": null,
   "id": "9376fc10",
   "metadata": {
    "scrolled": true
   },
   "outputs": [],
   "source": [
    "# Plot the loss and metric\n",
    "\n",
    "plt.figure(\"train\", (12, 6))\n",
    "plt.subplot(1, 2, 1)\n",
    "plt.title(\"Iteration Average Loss\")\n",
    "x = [eval_num * (i + 1) for i in range(len(epoch_loss_values))]\n",
    "y = epoch_loss_values\n",
    "plt.xlabel(\"Iteration\")\n",
    "plt.plot(x, y)\n",
    "plt.subplot(1, 2, 2)\n",
    "plt.title(\"Val Mean Dice\")\n",
    "x = [eval_num * (i + 1) for i in range(len(metric_values))]\n",
    "y = metric_values\n",
    "plt.xlabel(\"Iteration\")\n",
    "plt.plot(x, y)\n",
    "plt.show()"
   ]
  },
  {
   "cell_type": "code",
   "execution_count": null,
   "id": "00b403b1",
   "metadata": {
    "scrolled": true
   },
   "outputs": [],
   "source": []
  }
 ],
 "metadata": {
  "kernelspec": {
   "display_name": "Python 3 (ipykernel)",
   "language": "python",
   "name": "python3"
  },
  "language_info": {
   "codemirror_mode": {
    "name": "ipython",
    "version": 3
   },
   "file_extension": ".py",
   "mimetype": "text/x-python",
   "name": "python",
   "nbconvert_exporter": "python",
   "pygments_lexer": "ipython3",
   "version": "3.10.4"
  }
 },
 "nbformat": 4,
 "nbformat_minor": 5
}
