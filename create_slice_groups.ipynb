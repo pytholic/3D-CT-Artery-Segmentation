{
 "cells": [
  {
   "cell_type": "markdown",
   "id": "46edc1e7",
   "metadata": {},
   "source": [
    "# Create sub-volumes"
   ]
  },
  {
   "cell_type": "code",
   "execution_count": 1,
   "id": "3966df2b",
   "metadata": {},
   "outputs": [],
   "source": [
    "import os, glob\n",
    "import nibabel as nib\n",
    "import numpy as np\n",
    "\n",
    "from tqdm.notebook import tqdm, tnrange\n",
    "from tqdm.contrib import tzip"
   ]
  },
  {
   "cell_type": "code",
   "execution_count": 2,
   "id": "951b47c2",
   "metadata": {},
   "outputs": [],
   "source": [
    "# Do for train then val\n",
    "# in_path = '/media/trojan/evo/3D-CT-Artery-Segmentation/data/data_new/data_splitted/train/volumes'\n",
    "# out_path = '/media/trojan/evo/3D-CT-Artery-Segmentation/data/data_new/data_16_groups/train/images'\n",
    "in_path = '/media/trojan/evo/3D-CT-Artery-Segmentation/data/data_new/data_test/data_original'\n",
    "out_path = '/media/trojan/evo/3D-CT-Artery-Segmentation/data/data_new/data_test/data_groups'"
   ]
  },
  {
   "cell_type": "code",
   "execution_count": 3,
   "id": "3843c0fa",
   "metadata": {},
   "outputs": [
    {
     "data": {
      "application/vnd.jupyter.widget-view+json": {
       "model_id": "f55651cef36c477bb70d6cd93dc1641e",
       "version_major": 2,
       "version_minor": 0
      },
      "text/plain": [
       "  0%|          | 0/2 [00:00<?, ?it/s]"
      ]
     },
     "metadata": {},
     "output_type": "display_data"
    },
    {
     "name": "stdout",
     "output_type": "stream",
     "text": [
      "(512, 512, 568)\n"
     ]
    },
    {
     "data": {
      "application/vnd.jupyter.widget-view+json": {
       "model_id": "9a8a98a92b42452ab1547b4362b5ad13",
       "version_major": 2,
       "version_minor": 0
      },
      "text/plain": [
       "  0%|          | 0/35 [00:00<?, ?it/s]"
      ]
     },
     "metadata": {},
     "output_type": "display_data"
    },
    {
     "name": "stdout",
     "output_type": "stream",
     "text": [
      "(512, 512, 506)\n"
     ]
    },
    {
     "data": {
      "application/vnd.jupyter.widget-view+json": {
       "model_id": "c80e0a60673a4b398f60940c0aa08fc0",
       "version_major": 2,
       "version_minor": 0
      },
      "text/plain": [
       "  0%|          | 0/31 [00:00<?, ?it/s]"
      ]
     },
     "metadata": {},
     "output_type": "display_data"
    }
   ],
   "source": [
    "# No overlap\n",
    "\n",
    "for patient in tqdm(glob.glob(in_path + '/*')):\n",
    "    patient_name = os.path.basename(os.path.normpath(patient)).split('.')[0]\n",
    "    img = nib.load(patient)\n",
    "    data = img.get_fdata()\n",
    "    print(data.shape)\n",
    "    number_folders = int(data.shape[2] / 16)\n",
    "\n",
    "    i = 0\n",
    "    for idx in tnrange(number_folders):\n",
    "        output_path_name = os.path.join(out_path, patient_name + '_' + str(idx))\n",
    "        if i+16 > data.shape[2]:\n",
    "            break\n",
    "        out_img = nib.Nifti1Image(data[:,:,i:i+16], None)\n",
    "        nib.save(out_img, os.path.join(output_path_name + '.nii.gz'))\n",
    "        i+=16"
   ]
  },
  {
   "cell_type": "code",
   "execution_count": 16,
   "id": "83a08487",
   "metadata": {},
   "outputs": [
    {
     "data": {
      "application/vnd.jupyter.widget-view+json": {
       "model_id": "98200416ed4a45ad942f161dcc73a0ce",
       "version_major": 2,
       "version_minor": 0
      },
      "text/plain": [
       "  0%|          | 0/7 [00:00<?, ?it/s]"
      ]
     },
     "metadata": {},
     "output_type": "display_data"
    },
    {
     "name": "stdout",
     "output_type": "stream",
     "text": [
      "(512, 512, 480)\n"
     ]
    },
    {
     "data": {
      "application/vnd.jupyter.widget-view+json": {
       "model_id": "37d94999c67643f1aa406ec744321bc1",
       "version_major": 2,
       "version_minor": 0
      },
      "text/plain": [
       "  0%|          | 0/40 [00:00<?, ?it/s]"
      ]
     },
     "metadata": {},
     "output_type": "display_data"
    },
    {
     "name": "stdout",
     "output_type": "stream",
     "text": [
      "(512, 512, 512)\n"
     ]
    },
    {
     "data": {
      "application/vnd.jupyter.widget-view+json": {
       "model_id": "bbbf468d087a490992403abd463f76b5",
       "version_major": 2,
       "version_minor": 0
      },
      "text/plain": [
       "  0%|          | 0/42 [00:00<?, ?it/s]"
      ]
     },
     "metadata": {},
     "output_type": "display_data"
    },
    {
     "name": "stdout",
     "output_type": "stream",
     "text": [
      "(512, 512, 486)\n"
     ]
    },
    {
     "data": {
      "application/vnd.jupyter.widget-view+json": {
       "model_id": "76b5f541bcd24661a200fb5bed26ba4b",
       "version_major": 2,
       "version_minor": 0
      },
      "text/plain": [
       "  0%|          | 0/40 [00:00<?, ?it/s]"
      ]
     },
     "metadata": {},
     "output_type": "display_data"
    },
    {
     "name": "stdout",
     "output_type": "stream",
     "text": [
      "(512, 512, 103)\n"
     ]
    },
    {
     "data": {
      "application/vnd.jupyter.widget-view+json": {
       "model_id": "cdf0f616948140f19307e2c2cb370369",
       "version_major": 2,
       "version_minor": 0
      },
      "text/plain": [
       "  0%|          | 0/8 [00:00<?, ?it/s]"
      ]
     },
     "metadata": {},
     "output_type": "display_data"
    },
    {
     "name": "stdout",
     "output_type": "stream",
     "text": [
      "(512, 512, 234)\n"
     ]
    },
    {
     "data": {
      "application/vnd.jupyter.widget-view+json": {
       "model_id": "434c101b563e4c8b8d9a47517925cfb2",
       "version_major": 2,
       "version_minor": 0
      },
      "text/plain": [
       "  0%|          | 0/19 [00:00<?, ?it/s]"
      ]
     },
     "metadata": {},
     "output_type": "display_data"
    },
    {
     "name": "stdout",
     "output_type": "stream",
     "text": [
      "(512, 512, 97)\n"
     ]
    },
    {
     "data": {
      "application/vnd.jupyter.widget-view+json": {
       "model_id": "ef27eef63e944a8dafe7c9bd855e6173",
       "version_major": 2,
       "version_minor": 0
      },
      "text/plain": [
       "  0%|          | 0/8 [00:00<?, ?it/s]"
      ]
     },
     "metadata": {},
     "output_type": "display_data"
    },
    {
     "name": "stdout",
     "output_type": "stream",
     "text": [
      "(512, 512, 102)\n"
     ]
    },
    {
     "data": {
      "application/vnd.jupyter.widget-view+json": {
       "model_id": "2eb199f38c894a1b992973017718eadb",
       "version_major": 2,
       "version_minor": 0
      },
      "text/plain": [
       "  0%|          | 0/8 [00:00<?, ?it/s]"
      ]
     },
     "metadata": {},
     "output_type": "display_data"
    }
   ],
   "source": [
    "# # Overlap 4 slices\n",
    "\n",
    "# for patient in tqdm(glob.glob(in_path + '/*')):\n",
    "#     patient_name = os.path.basename(os.path.normpath(patient)).split('.')[0]\n",
    "#     img = nib.load(patient)\n",
    "#     data = img.get_fdata()\n",
    "#     print(data.shape)\n",
    "#     number_folders = int(data.shape[2] / 12)\n",
    "\n",
    "#     i = 0\n",
    "#     for idx in tnrange(number_folders):\n",
    "#         output_path_name = os.path.join(out_path, patient_name + '_' + str(idx))\n",
    "#         if i+16 > data.shape[2]:\n",
    "#             break\n",
    "#         out_img = nib.Nifti1Image(data[:,:,i:i+16], None)\n",
    "#         nib.save(out_img, os.path.join(output_path_name + '.nii.gz'))\n",
    "#         i+=12"
   ]
  }
 ],
 "metadata": {
  "kernelspec": {
   "display_name": "Python 3 (ipykernel)",
   "language": "python",
   "name": "python3"
  },
  "language_info": {
   "codemirror_mode": {
    "name": "ipython",
    "version": 3
   },
   "file_extension": ".py",
   "mimetype": "text/x-python",
   "name": "python",
   "nbconvert_exporter": "python",
   "pygments_lexer": "ipython3",
   "version": "3.10.4"
  }
 },
 "nbformat": 4,
 "nbformat_minor": 5
}
