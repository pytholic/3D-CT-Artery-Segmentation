{
 "cells": [
  {
   "cell_type": "code",
   "execution_count": 1,
   "id": "7b1c3deb",
   "metadata": {},
   "outputs": [],
   "source": [
    "import os, glob\n",
    "import torchio as tio"
   ]
  },
  {
   "cell_type": "code",
   "execution_count": 2,
   "id": "d1db2a0a",
   "metadata": {},
   "outputs": [],
   "source": [
    "DATA_DIR = '/media/trojan/evo/3D-CT-Artery-Segmentation/data/data_new/data_16_groups'\n",
    "train_dir = os.path.join(DATA_DIR, 'train')\n",
    "validation_dir = os.path.join(DATA_DIR, \"val\")\n",
    "\n",
    "train_vol_dir = os.path.join(train_dir, 'images')\n",
    "train_masks_dir = os.path.join(train_dir, 'labels')\n",
    "train_vol_paths = sorted(glob.glob(train_vol_dir + '/' + '*.nii.gz'))\n",
    "train_masks_paths = sorted(glob.glob(train_masks_dir + '/' + '*.nii.gz'))\n",
    "\n",
    "validation_vol_dir = os.path.join(validation_dir, 'images')\n",
    "validation_masks_dir = os.path.join(validation_dir, 'labels')\n",
    "validation_vol_paths = sorted(glob.glob(validation_vol_dir + '/' + '*.nii.gz'))\n",
    "validation_masks_paths = sorted(glob.glob(validation_masks_dir + '/' + '*.nii.gz'))"
   ]
  },
  {
   "cell_type": "code",
   "execution_count": 3,
   "id": "6ff124cb",
   "metadata": {},
   "outputs": [],
   "source": [
    "# Define output paths\n",
    "OUT_DIR = '/media/trojan/evo/3D-CT-Artery-Segmentation/data/data_new/data_spacing_fixed'\n",
    "out_train_vol_dir = os.path.join(OUT_DIR, 'train/images')\n",
    "out_train_mask_dir = os.path.join(OUT_DIR, 'train/labels')\n",
    "out_val_vol_dir = os.path.join(OUT_DIR, 'val/train')\n",
    "out_val_mask_dir = os.path.join(OUT_DIR, 'val/labels')"
   ]
  },
  {
   "cell_type": "code",
   "execution_count": 4,
   "id": "ee76fdb5",
   "metadata": {},
   "outputs": [
    {
     "ename": "KeyboardInterrupt",
     "evalue": "",
     "output_type": "error",
     "traceback": [
      "\u001b[0;31m---------------------------------------------------------------------------\u001b[0m",
      "\u001b[0;31mKeyboardInterrupt\u001b[0m                         Traceback (most recent call last)",
      "Input \u001b[0;32mIn [4]\u001b[0m, in \u001b[0;36m<cell line: 5>\u001b[0;34m()\u001b[0m\n\u001b[1;32m     10\u001b[0m output \u001b[38;5;241m=\u001b[39m transform(subject)\n\u001b[1;32m     11\u001b[0m name \u001b[38;5;241m=\u001b[39m image_path\u001b[38;5;241m.\u001b[39msplit(\u001b[38;5;124m'\u001b[39m\u001b[38;5;124m/\u001b[39m\u001b[38;5;124m'\u001b[39m)[\u001b[38;5;241m-\u001b[39m\u001b[38;5;241m1\u001b[39m]\n\u001b[0;32m---> 12\u001b[0m \u001b[43moutput\u001b[49m\u001b[38;5;241;43m.\u001b[39;49m\u001b[43mimage\u001b[49m\u001b[38;5;241;43m.\u001b[39;49m\u001b[43msave\u001b[49m\u001b[43m(\u001b[49m\u001b[43mos\u001b[49m\u001b[38;5;241;43m.\u001b[39;49m\u001b[43mpath\u001b[49m\u001b[38;5;241;43m.\u001b[39;49m\u001b[43mjoin\u001b[49m\u001b[43m(\u001b[49m\u001b[43mout_train_vol_dir\u001b[49m\u001b[43m,\u001b[49m\u001b[43m \u001b[49m\u001b[38;5;124;43mf\u001b[39;49m\u001b[38;5;124;43m'\u001b[39;49m\u001b[38;5;132;43;01m{\u001b[39;49;00m\u001b[43mname\u001b[49m\u001b[38;5;132;43;01m}\u001b[39;49;00m\u001b[38;5;124;43m'\u001b[39;49m\u001b[43m)\u001b[49m\u001b[43m)\u001b[49m\n\u001b[1;32m     13\u001b[0m output\u001b[38;5;241m.\u001b[39mlabel\u001b[38;5;241m.\u001b[39msave(os\u001b[38;5;241m.\u001b[39mpath\u001b[38;5;241m.\u001b[39mjoin(out_train_mask_dir, \u001b[38;5;124mf\u001b[39m\u001b[38;5;124m'\u001b[39m\u001b[38;5;132;01m{\u001b[39;00mname\u001b[38;5;132;01m}\u001b[39;00m\u001b[38;5;124m'\u001b[39m))\n",
      "File \u001b[0;32m~/anaconda3/envs/monai/lib/python3.10/site-packages/torchio/data/image.py:559\u001b[0m, in \u001b[0;36mImage.save\u001b[0;34m(self, path, squeeze)\u001b[0m\n\u001b[1;32m    550\u001b[0m \u001b[38;5;28;01mdef\u001b[39;00m \u001b[38;5;21msave\u001b[39m(\u001b[38;5;28mself\u001b[39m, path: TypePath, squeeze: Optional[\u001b[38;5;28mbool\u001b[39m] \u001b[38;5;241m=\u001b[39m \u001b[38;5;28;01mNone\u001b[39;00m) \u001b[38;5;241m-\u001b[39m\u001b[38;5;241m>\u001b[39m \u001b[38;5;28;01mNone\u001b[39;00m:\n\u001b[1;32m    551\u001b[0m     \u001b[38;5;124;03m\"\"\"Save image to disk.\u001b[39;00m\n\u001b[1;32m    552\u001b[0m \n\u001b[1;32m    553\u001b[0m \u001b[38;5;124;03m    Args:\u001b[39;00m\n\u001b[0;32m   (...)\u001b[0m\n\u001b[1;32m    557\u001b[0m \u001b[38;5;124;03m            JP(E)G, PNG, BMP or TIF(F).\u001b[39;00m\n\u001b[1;32m    558\u001b[0m \u001b[38;5;124;03m    \"\"\"\u001b[39;00m\n\u001b[0;32m--> 559\u001b[0m     \u001b[43mwrite_image\u001b[49m\u001b[43m(\u001b[49m\n\u001b[1;32m    560\u001b[0m \u001b[43m        \u001b[49m\u001b[38;5;28;43mself\u001b[39;49m\u001b[38;5;241;43m.\u001b[39;49m\u001b[43mdata\u001b[49m\u001b[43m,\u001b[49m\n\u001b[1;32m    561\u001b[0m \u001b[43m        \u001b[49m\u001b[38;5;28;43mself\u001b[39;49m\u001b[38;5;241;43m.\u001b[39;49m\u001b[43maffine\u001b[49m\u001b[43m,\u001b[49m\n\u001b[1;32m    562\u001b[0m \u001b[43m        \u001b[49m\u001b[43mpath\u001b[49m\u001b[43m,\u001b[49m\n\u001b[1;32m    563\u001b[0m \u001b[43m        \u001b[49m\u001b[43msqueeze\u001b[49m\u001b[38;5;241;43m=\u001b[39;49m\u001b[43msqueeze\u001b[49m\u001b[43m,\u001b[49m\n\u001b[1;32m    564\u001b[0m \u001b[43m    \u001b[49m\u001b[43m)\u001b[49m\n",
      "File \u001b[0;32m~/anaconda3/envs/monai/lib/python3.10/site-packages/torchio/data/io.py:127\u001b[0m, in \u001b[0;36mwrite_image\u001b[0;34m(tensor, affine, path, squeeze)\u001b[0m\n\u001b[1;32m    125\u001b[0m args \u001b[38;5;241m=\u001b[39m tensor, affine, path\n\u001b[1;32m    126\u001b[0m \u001b[38;5;28;01mtry\u001b[39;00m:\n\u001b[0;32m--> 127\u001b[0m     \u001b[43m_write_sitk\u001b[49m\u001b[43m(\u001b[49m\u001b[38;5;241;43m*\u001b[39;49m\u001b[43margs\u001b[49m\u001b[43m,\u001b[49m\u001b[43m \u001b[49m\u001b[43msqueeze\u001b[49m\u001b[38;5;241;43m=\u001b[39;49m\u001b[43msqueeze\u001b[49m\u001b[43m)\u001b[49m\n\u001b[1;32m    128\u001b[0m \u001b[38;5;28;01mexcept\u001b[39;00m \u001b[38;5;167;01mRuntimeError\u001b[39;00m:  \u001b[38;5;66;03m# try with NiBabel\u001b[39;00m\n\u001b[1;32m    129\u001b[0m     _write_nibabel(\u001b[38;5;241m*\u001b[39margs)\n",
      "File \u001b[0;32m~/anaconda3/envs/monai/lib/python3.10/site-packages/torchio/data/io.py:182\u001b[0m, in \u001b[0;36m_write_sitk\u001b[0;34m(tensor, affine, path, use_compression, squeeze)\u001b[0m\n\u001b[1;32m    180\u001b[0m \u001b[38;5;28;01melse\u001b[39;00m:\n\u001b[1;32m    181\u001b[0m     force_3d \u001b[38;5;241m=\u001b[39m \u001b[38;5;129;01mnot\u001b[39;00m squeeze\n\u001b[0;32m--> 182\u001b[0m image \u001b[38;5;241m=\u001b[39m \u001b[43mnib_to_sitk\u001b[49m\u001b[43m(\u001b[49m\u001b[43mtensor\u001b[49m\u001b[43m,\u001b[49m\u001b[43m \u001b[49m\u001b[43maffine\u001b[49m\u001b[43m,\u001b[49m\u001b[43m \u001b[49m\u001b[43mforce_3d\u001b[49m\u001b[38;5;241;43m=\u001b[39;49m\u001b[43mforce_3d\u001b[49m\u001b[43m)\u001b[49m\n\u001b[1;32m    183\u001b[0m sitk\u001b[38;5;241m.\u001b[39mWriteImage(image, \u001b[38;5;28mstr\u001b[39m(path), use_compression)\n",
      "File \u001b[0;32m~/anaconda3/envs/monai/lib/python3.10/site-packages/torchio/data/io.py:301\u001b[0m, in \u001b[0;36mnib_to_sitk\u001b[0;34m(data, affine, force_3d, force_4d)\u001b[0m\n\u001b[1;32m    299\u001b[0m     array \u001b[38;5;241m=\u001b[39m array[\u001b[38;5;241m0\u001b[39m]\n\u001b[1;32m    300\u001b[0m array \u001b[38;5;241m=\u001b[39m array\u001b[38;5;241m.\u001b[39mtranspose()  \u001b[38;5;66;03m# (W, H, D, C) or (W, H, D)\u001b[39;00m\n\u001b[0;32m--> 301\u001b[0m image \u001b[38;5;241m=\u001b[39m \u001b[43msitk\u001b[49m\u001b[38;5;241;43m.\u001b[39;49m\u001b[43mGetImageFromArray\u001b[49m\u001b[43m(\u001b[49m\u001b[43marray\u001b[49m\u001b[43m,\u001b[49m\u001b[43m \u001b[49m\u001b[43misVector\u001b[49m\u001b[38;5;241;43m=\u001b[39;49m\u001b[43mis_multichannel\u001b[49m\u001b[43m)\u001b[49m\n\u001b[1;32m    303\u001b[0m origin, spacing, direction \u001b[38;5;241m=\u001b[39m get_sitk_metadata_from_ras_affine(\n\u001b[1;32m    304\u001b[0m     affine,\n\u001b[1;32m    305\u001b[0m     is_2d\u001b[38;5;241m=\u001b[39mis_2d,\n\u001b[1;32m    306\u001b[0m )\n\u001b[1;32m    307\u001b[0m image\u001b[38;5;241m.\u001b[39mSetOrigin(origin)  \u001b[38;5;66;03m# should I add a 4th value if force_4d?\u001b[39;00m\n",
      "File \u001b[0;32m~/anaconda3/envs/monai/lib/python3.10/site-packages/SimpleITK/extra.py:296\u001b[0m, in \u001b[0;36mGetImageFromArray\u001b[0;34m(arr, isVector)\u001b[0m\n\u001b[1;32m    293\u001b[0m     shape \u001b[38;5;241m=\u001b[39m z\u001b[38;5;241m.\u001b[39mshape[::\u001b[38;5;241m-\u001b[39m\u001b[38;5;241m1\u001b[39m]\n\u001b[1;32m    295\u001b[0m \u001b[38;5;66;03m# SimpleITK throws an exception if the image dimension is not supported\u001b[39;00m\n\u001b[0;32m--> 296\u001b[0m img \u001b[38;5;241m=\u001b[39m \u001b[43mImage\u001b[49m\u001b[43m(\u001b[49m\u001b[43mshape\u001b[49m\u001b[43m,\u001b[49m\u001b[43m \u001b[49m\u001b[38;5;28;43mid\u001b[39;49m\u001b[43m,\u001b[49m\u001b[43m \u001b[49m\u001b[43mnumber_of_components\u001b[49m\u001b[43m)\u001b[49m\n\u001b[1;32m    298\u001b[0m _SetImageFromArray(z\u001b[38;5;241m.\u001b[39mtobytes(), img)\n\u001b[1;32m    300\u001b[0m \u001b[38;5;28;01mreturn\u001b[39;00m img\n",
      "File \u001b[0;32m~/anaconda3/envs/monai/lib/python3.10/site-packages/SimpleITK/SimpleITK.py:3104\u001b[0m, in \u001b[0;36mImage.__init__\u001b[0;34m(self, *args)\u001b[0m\n\u001b[1;32m   3080\u001b[0m \u001b[38;5;28;01mdef\u001b[39;00m \u001b[38;5;21m__init__\u001b[39m(\u001b[38;5;28mself\u001b[39m, \u001b[38;5;241m*\u001b[39margs):\n\u001b[1;32m   3081\u001b[0m     \u001b[38;5;124mr\u001b[39m\u001b[38;5;124;03m\"\"\"\u001b[39;00m\n\u001b[1;32m   3082\u001b[0m \u001b[38;5;124;03m    __init__(Image self) -> Image\u001b[39;00m\n\u001b[1;32m   3083\u001b[0m \u001b[38;5;124;03m    __init__(Image self, Image img) -> Image\u001b[39;00m\n\u001b[0;32m   (...)\u001b[0m\n\u001b[1;32m   3102\u001b[0m \n\u001b[1;32m   3103\u001b[0m \u001b[38;5;124;03m    \"\"\"\u001b[39;00m\n\u001b[0;32m-> 3104\u001b[0m     _SimpleITK\u001b[38;5;241m.\u001b[39mImage_swiginit(\u001b[38;5;28mself\u001b[39m, \u001b[43m_SimpleITK\u001b[49m\u001b[38;5;241;43m.\u001b[39;49m\u001b[43mnew_Image\u001b[49m\u001b[43m(\u001b[49m\u001b[38;5;241;43m*\u001b[39;49m\u001b[43margs\u001b[49m\u001b[43m)\u001b[49m)\n",
      "\u001b[0;31mKeyboardInterrupt\u001b[0m: "
     ]
    }
   ],
   "source": [
    "# Apply on training data\n",
    "\n",
    "transform = tio.Resample(target=(0.4,0.4,0.5))\n",
    "\n",
    "for image_path,label_path in zip(train_vol_paths, train_masks_paths):\n",
    "    subject = tio.Subject(\n",
    "        image=tio.ScalarImage(image_path),\n",
    "        label=tio.LabelMap(label_path),\n",
    "    )  \n",
    "    output = transform(subject)\n",
    "    name = image_path.split('/')[-1]\n",
    "    output.image.save(os.path.join(out_train_vol_dir, f'{name}'))\n",
    "    output.label.save(os.path.join(out_train_mask_dir, f'{name}'))"
   ]
  },
  {
   "cell_type": "code",
   "execution_count": 12,
   "id": "43ac7f68",
   "metadata": {},
   "outputs": [],
   "source": [
    "# Apply on validation data\n",
    "transform = tio.Resample(target=(0.4,0.4,0.5))\n",
    "\n",
    "for image_path,label_path in zip(validation_vol_paths, validation_masks_paths):\n",
    "    subject = tio.Subject(\n",
    "        image=tio.ScalarImage(image_path),\n",
    "        label=tio.LabelMap(label_path),\n",
    "    )\n",
    "    output = transform(subject)\n",
    "    name = image_path.split('/')[-1]\n",
    "    output.image.save(os.path.join(out_val_vol_dir, f'{name}'))\n",
    "    output.label.save(os.path.join(out_val_mask_dir, f'{name}'))"
   ]
  },
  {
   "cell_type": "code",
   "execution_count": 15,
   "id": "d7bc7a3c",
   "metadata": {},
   "outputs": [
    {
     "name": "stdout",
     "output_type": "stream",
     "text": [
      "(0.4000000059604645, 0.4000000059604645, 0.5) (0.4000000059604645, 0.4000000059604645, 0.5)\n",
      "(0.4000000059604645, 0.4000000059604645, 0.5) (0.4000000059604645, 0.4000000059604645, 0.5)\n",
      "(0.4000000059604645, 0.4000000059604645, 0.5) (0.4000000059604645, 0.4000000059604645, 0.5)\n",
      "(0.4000000059604645, 0.4000000059604645, 0.5) (0.4000000059604645, 0.4000000059604645, 0.5)\n",
      "(0.4000000059604645, 0.4000000059604645, 0.5) (0.4000000059604645, 0.4000000059604645, 0.5)\n",
      "(0.4000000059604645, 0.4000000059604645, 0.5) (0.4000000059604645, 0.4000000059604645, 0.5)\n",
      "(0.4000000059604645, 0.4000000059604645, 0.5) (0.4000000059604645, 0.4000000059604645, 0.5)\n",
      "(0.4000000059604645, 0.4000000059604645, 0.5) (0.4000000059604645, 0.4000000059604645, 0.5)\n",
      "(0.4000000059604645, 0.4000000059604645, 0.5) (0.4000000059604645, 0.4000000059604645, 0.5)\n",
      "(0.4000000059604645, 0.4000000059604645, 0.5) (0.4000000059604645, 0.4000000059604645, 0.5)\n",
      "(0.4000000059604645, 0.4000000059604645, 0.5) (0.4000000059604645, 0.4000000059604645, 0.5)\n",
      "(0.4000000059604645, 0.4000000059604645, 0.5) (0.4000000059604645, 0.4000000059604645, 0.5)\n",
      "(0.4000000059604645, 0.4000000059604645, 0.5) (0.4000000059604645, 0.4000000059604645, 0.5)\n",
      "(0.4000000059604645, 0.4000000059604645, 0.5) (0.4000000059604645, 0.4000000059604645, 0.5)\n",
      "(0.4000000059604645, 0.4000000059604645, 0.5) (0.4000000059604645, 0.4000000059604645, 0.5)\n",
      "(0.4000000059604645, 0.4000000059604645, 0.5) (0.4000000059604645, 0.4000000059604645, 0.5)\n",
      "(0.4000000059604645, 0.4000000059604645, 0.5) (0.4000000059604645, 0.4000000059604645, 0.5)\n",
      "(0.4000000059604645, 0.4000000059604645, 0.5) (0.4000000059604645, 0.4000000059604645, 0.5)\n",
      "(0.4000000059604645, 0.4000000059604645, 0.5) (0.4000000059604645, 0.4000000059604645, 0.5)\n",
      "(0.4000000059604645, 0.4000000059604645, 0.5) (0.4000000059604645, 0.4000000059604645, 0.5)\n",
      "(0.4000000059604645, 0.4000000059604645, 0.5) (0.4000000059604645, 0.4000000059604645, 0.5)\n",
      "(0.4000000059604645, 0.4000000059604645, 0.5) (0.4000000059604645, 0.4000000059604645, 0.5)\n",
      "(0.4000000059604645, 0.4000000059604645, 0.5) (0.4000000059604645, 0.4000000059604645, 0.5)\n",
      "(0.4000000059604645, 0.4000000059604645, 0.5) (0.4000000059604645, 0.4000000059604645, 0.5)\n",
      "(0.4000000059604645, 0.4000000059604645, 0.5) (0.4000000059604645, 0.4000000059604645, 0.5)\n",
      "(0.4000000059604645, 0.4000000059604645, 0.5) (0.4000000059604645, 0.4000000059604645, 0.5)\n",
      "(0.4000000059604645, 0.4000000059604645, 0.5) (0.4000000059604645, 0.4000000059604645, 0.5)\n",
      "(0.4000000059604645, 0.4000000059604645, 0.5) (0.4000000059604645, 0.4000000059604645, 0.5)\n",
      "(0.4000000059604645, 0.4000000059604645, 0.5) (0.4000000059604645, 0.4000000059604645, 0.5)\n",
      "(0.4000000059604645, 0.4000000059604645, 0.5) (0.4000000059604645, 0.4000000059604645, 0.5)\n",
      "(0.4000000059604645, 0.4000000059604645, 0.5) (0.4000000059604645, 0.4000000059604645, 0.5)\n",
      "(0.4000000059604645, 0.4000000059604645, 0.5) (0.4000000059604645, 0.4000000059604645, 0.5)\n",
      "(0.4000000059604645, 0.4000000059604645, 0.5) (0.4000000059604645, 0.4000000059604645, 0.5)\n",
      "(0.4000000059604645, 0.4000000059604645, 0.5) (0.4000000059604645, 0.4000000059604645, 0.5)\n",
      "(0.4000000059604645, 0.4000000059604645, 0.5) (0.4000000059604645, 0.4000000059604645, 0.5)\n",
      "(0.4000000059604645, 0.4000000059604645, 0.5) (0.4000000059604645, 0.4000000059604645, 0.5)\n",
      "(0.4000000059604645, 0.4000000059604645, 0.5) (0.4000000059604645, 0.4000000059604645, 0.5)\n",
      "(0.4000000059604645, 0.4000000059604645, 0.5) (0.4000000059604645, 0.4000000059604645, 0.5)\n",
      "(0.4000000059604645, 0.4000000059604645, 0.5) (0.4000000059604645, 0.4000000059604645, 0.5)\n",
      "(0.4000000059604645, 0.4000000059604645, 0.5) (0.4000000059604645, 0.4000000059604645, 0.5)\n",
      "(0.4000000059604645, 0.4000000059604645, 0.5) (0.4000000059604645, 0.4000000059604645, 0.5)\n",
      "(0.4000000059604645, 0.4000000059604645, 0.5) (0.4000000059604645, 0.4000000059604645, 0.5)\n",
      "(0.4000000059604645, 0.4000000059604645, 0.5) (0.4000000059604645, 0.4000000059604645, 0.5)\n",
      "(0.4000000059604645, 0.4000000059604645, 0.5) (0.4000000059604645, 0.4000000059604645, 0.5)\n",
      "(0.4000000059604645, 0.4000000059604645, 0.5) (0.4000000059604645, 0.4000000059604645, 0.5)\n",
      "(0.4000000059604645, 0.4000000059604645, 0.5) (0.4000000059604645, 0.4000000059604645, 0.5)\n",
      "(0.4000000059604645, 0.4000000059604645, 0.5) (0.4000000059604645, 0.4000000059604645, 0.5)\n",
      "(0.4000000059604645, 0.4000000059604645, 0.5) (0.4000000059604645, 0.4000000059604645, 0.5)\n",
      "(0.4000000059604645, 0.4000000059604645, 0.5) (0.4000000059604645, 0.4000000059604645, 0.5)\n",
      "(0.4000000059604645, 0.4000000059604645, 0.5) (0.4000000059604645, 0.4000000059604645, 0.5)\n",
      "(0.4000000059604645, 0.4000000059604645, 0.5) (0.4000000059604645, 0.4000000059604645, 0.5)\n",
      "(0.4000000059604645, 0.4000000059604645, 0.5) (0.4000000059604645, 0.4000000059604645, 0.5)\n",
      "(0.4000000059604645, 0.4000000059604645, 0.5) (0.4000000059604645, 0.4000000059604645, 0.5)\n",
      "(0.4000000059604645, 0.4000000059604645, 0.5) (0.4000000059604645, 0.4000000059604645, 0.5)\n",
      "(0.4000000059604645, 0.4000000059604645, 0.5) (0.4000000059604645, 0.4000000059604645, 0.5)\n",
      "(0.4000000059604645, 0.4000000059604645, 0.5) (0.4000000059604645, 0.4000000059604645, 0.5)\n",
      "(0.4000000059604645, 0.4000000059604645, 0.5) (0.4000000059604645, 0.4000000059604645, 0.5)\n",
      "(0.4000000059604645, 0.4000000059604645, 0.5) (0.4000000059604645, 0.4000000059604645, 0.5)\n",
      "(0.4000000059604645, 0.4000000059604645, 0.5) (0.4000000059604645, 0.4000000059604645, 0.5)\n"
     ]
    }
   ],
   "source": [
    "# Check spacing in output data\n",
    "out_train_vol_paths = sorted(glob.glob(out_train_vol_dir + '/*.nii.gz'))\n",
    "out_train_masks_paths = sorted(glob.glob(out_train_mask_dir + '/*.nii.gz'))\n",
    "\n",
    "for image_path,label_path in zip(out_train_vol_paths, out_train_masks_paths):\n",
    "    image=tio.ScalarImage(image_path)\n",
    "    label=tio.LabelMap(label_path)\n",
    "    print(image.spacing, label.spacing)"
   ]
  },
  {
   "cell_type": "code",
   "execution_count": null,
   "id": "ad965dd2",
   "metadata": {},
   "outputs": [],
   "source": []
  }
 ],
 "metadata": {
  "kernelspec": {
   "display_name": "Python 3 (ipykernel)",
   "language": "python",
   "name": "python3"
  },
  "language_info": {
   "codemirror_mode": {
    "name": "ipython",
    "version": 3
   },
   "file_extension": ".py",
   "mimetype": "text/x-python",
   "name": "python",
   "nbconvert_exporter": "python",
   "pygments_lexer": "ipython3",
   "version": "3.10.4"
  }
 },
 "nbformat": 4,
 "nbformat_minor": 5
}
