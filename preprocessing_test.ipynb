{
 "cells": [
  {
   "cell_type": "code",
   "execution_count": 1,
   "id": "58aa4188",
   "metadata": {},
   "outputs": [],
   "source": [
    "import os, glob\n",
    "import torchio as tio\n",
    "from tqdm.notebook import tqdm"
   ]
  },
  {
   "cell_type": "code",
   "execution_count": 2,
   "id": "99c8d37f",
   "metadata": {},
   "outputs": [],
   "source": [
    "DATA_DIR = \"/media/trojan/evo/3D-CT-Artery-Segmentation/data/data_512x512x16/data_test/data_original\"\n",
    "OUT_DIR = \"/media/trojan/evo/3D-CT-Artery-Segmentation/data/data_512x512x16/data_test/data_processed\""
   ]
  },
  {
   "cell_type": "code",
   "execution_count": 3,
   "id": "3aa22165",
   "metadata": {},
   "outputs": [],
   "source": [
    "test_image_paths = sorted(glob.glob(DATA_DIR + '/' + '*.nii.gz'))"
   ]
  },
  {
   "cell_type": "code",
   "execution_count": 4,
   "id": "245ace55",
   "metadata": {
    "scrolled": true
   },
   "outputs": [
    {
     "name": "stdout",
     "output_type": "stream",
     "text": [
      "['/media/trojan/evo/3D-CT-Artery-Segmentation/data/data_512x512x16/data_test/data_original/1.nii.gz', '/media/trojan/evo/3D-CT-Artery-Segmentation/data/data_512x512x16/data_test/data_original/2.nii.gz']\n"
     ]
    }
   ],
   "source": [
    "print(test_image_paths)"
   ]
  },
  {
   "cell_type": "markdown",
   "id": "64d8eae9",
   "metadata": {},
   "source": [
    "# Spacing and size fix"
   ]
  },
  {
   "cell_type": "code",
   "execution_count": 5,
   "id": "72dec5de",
   "metadata": {},
   "outputs": [
    {
     "name": "stdout",
     "output_type": "stream",
     "text": [
      "(0.44921875, 0.44921875, 0.5)\n",
      "(0.4296875, 0.4296875, 0.5)\n"
     ]
    }
   ],
   "source": [
    "for image_path in test_image_paths:\n",
    "    image = tio.ScalarImage(image_path)\n",
    "    print(image.spacing)"
   ]
  },
  {
   "cell_type": "code",
   "execution_count": 6,
   "id": "1def4997",
   "metadata": {},
   "outputs": [],
   "source": [
    "# Define transforms\n",
    "transform_spacing = tio.Resample(target=(0.4,0.4,0.5))\n",
    "transform_size = tio.Resize(target_shape=(512,512,512))"
   ]
  },
  {
   "cell_type": "code",
   "execution_count": 7,
   "id": "9149bb53",
   "metadata": {},
   "outputs": [
    {
     "data": {
      "application/vnd.jupyter.widget-view+json": {
       "model_id": "b2fb23c06c554c56bab275f124bc0234",
       "version_major": 2,
       "version_minor": 0
      },
      "text/plain": [
       "  0%|          | 0/2 [00:00<?, ?it/s]"
      ]
     },
     "metadata": {},
     "output_type": "display_data"
    }
   ],
   "source": [
    "for image_path in tqdm(test_image_paths):\n",
    "    image = tio.ScalarImage(image_path)\n",
    "    name = image_path.split('/')[-1]\n",
    "    output = transform_spacing(image)\n",
    "    output = transform_size(output)\n",
    "    output.save(os.path.join(OUT_DIR, f'{name}'))"
   ]
  },
  {
   "cell_type": "code",
   "execution_count": 8,
   "id": "022daae4",
   "metadata": {},
   "outputs": [],
   "source": [
    "# Check\n",
    "output_image_paths = sorted(glob.glob(OUT_DIR + '/' + '*.nii.gz'))"
   ]
  },
  {
   "cell_type": "code",
   "execution_count": 9,
   "id": "29e8c25a",
   "metadata": {},
   "outputs": [
    {
     "name": "stdout",
     "output_type": "stream",
     "text": [
      "(1, 512, 512, 512) (0.44921875, 0.44921875, 0.5546875)\n",
      "(1, 512, 512, 512) (0.4296875, 0.4296875, 0.494140625)\n"
     ]
    }
   ],
   "source": [
    "for image_path in output_image_paths:\n",
    "    image = tio.ScalarImage(image_path)\n",
    "    print(image.shape, image.spacing)"
   ]
  },
  {
   "cell_type": "code",
   "execution_count": null,
   "id": "39b83715",
   "metadata": {},
   "outputs": [],
   "source": []
  }
 ],
 "metadata": {
  "kernelspec": {
   "display_name": "Python 3 (ipykernel)",
   "language": "python",
   "name": "python3"
  },
  "language_info": {
   "codemirror_mode": {
    "name": "ipython",
    "version": 3
   },
   "file_extension": ".py",
   "mimetype": "text/x-python",
   "name": "python",
   "nbconvert_exporter": "python",
   "pygments_lexer": "ipython3",
   "version": "3.10.4"
  }
 },
 "nbformat": 4,
 "nbformat_minor": 5
}
