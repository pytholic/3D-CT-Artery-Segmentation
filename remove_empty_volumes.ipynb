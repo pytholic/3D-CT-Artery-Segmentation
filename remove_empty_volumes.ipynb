{
 "cells": [
  {
   "cell_type": "markdown",
   "id": "36028880",
   "metadata": {},
   "source": [
    "This notebook will remove the volumes which contain only the `background` class. Such images are not useful for our training and can degrade the `model` performance."
   ]
  },
  {
   "cell_type": "code",
   "execution_count": 1,
   "id": "367d549c",
   "metadata": {},
   "outputs": [],
   "source": [
    "import os, glob\n",
    "import numpy as np\n",
    "import nibabel as nib\n",
    "\n",
    "from tqdm.contrib import tzip"
   ]
  },
  {
   "cell_type": "code",
   "execution_count": 6,
   "id": "fe8cd59a",
   "metadata": {},
   "outputs": [],
   "source": [
    "# Do for train then val\n",
    "data_dir = '/media/trojan/evo/3D-CT-Artery-Segmentation/data/data_new/data_16_groups/val'\n",
    "images_path = os.path.join(data_dir, 'images')\n",
    "labels_path = os.path.join(data_dir, 'labels')"
   ]
  },
  {
   "cell_type": "code",
   "execution_count": 7,
   "id": "0217e044",
   "metadata": {},
   "outputs": [
    {
     "name": "stdout",
     "output_type": "stream",
     "text": [
      "163\n"
     ]
    }
   ],
   "source": [
    "list_labels = sorted(glob.glob(labels_path + '/*'))\n",
    "list_images = sorted(glob.glob(images_path + '/*'))\n",
    "\n",
    "print(len(list_labels))"
   ]
  },
  {
   "cell_type": "code",
   "execution_count": 8,
   "id": "96403e7d",
   "metadata": {},
   "outputs": [
    {
     "data": {
      "application/vnd.jupyter.widget-view+json": {
       "model_id": "d1c9567783a74b71896d67c065be1283",
       "version_major": 2,
       "version_minor": 0
      },
      "text/plain": [
       "  0%|          | 0/163 [00:00<?, ?it/s]"
      ]
     },
     "metadata": {},
     "output_type": "display_data"
    }
   ],
   "source": [
    "cnt = 0\n",
    "\n",
    "for image,label in tzip(list_images,list_labels):\n",
    "    nifti_file = nib.load(label)\n",
    "    fdata = nifti_file.get_fdata()\n",
    "    unique_labels = np.unique(fdata)\n",
    "    if len(unique_labels) == 1:\n",
    "        !rm -r {label} && rm -r {image}\n",
    "        cnt+=1"
   ]
  },
  {
   "cell_type": "code",
   "execution_count": 9,
   "id": "8108c8d2",
   "metadata": {},
   "outputs": [
    {
     "name": "stdout",
     "output_type": "stream",
     "text": [
      "62\n"
     ]
    }
   ],
   "source": [
    "print(cnt)"
   ]
  },
  {
   "cell_type": "code",
   "execution_count": null,
   "id": "62aa38de",
   "metadata": {},
   "outputs": [],
   "source": []
  }
 ],
 "metadata": {
  "kernelspec": {
   "display_name": "Python 3 (ipykernel)",
   "language": "python",
   "name": "python3"
  },
  "language_info": {
   "codemirror_mode": {
    "name": "ipython",
    "version": 3
   },
   "file_extension": ".py",
   "mimetype": "text/x-python",
   "name": "python",
   "nbconvert_exporter": "python",
   "pygments_lexer": "ipython3",
   "version": "3.10.4"
  }
 },
 "nbformat": 4,
 "nbformat_minor": 5
}
