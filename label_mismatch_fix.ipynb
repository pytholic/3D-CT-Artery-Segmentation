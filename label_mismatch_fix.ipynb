{
 "cells": [
  {
   "cell_type": "markdown",
   "id": "fbb96066",
   "metadata": {},
   "source": [
    "Some label masks have one class missing. So need to check and figure out how to fix it.\n",
    "Need the shape of `target` and `predicted` mask to be same for loss calcualtion."
   ]
  },
  {
   "cell_type": "code",
   "execution_count": 1,
   "id": "8b975948",
   "metadata": {},
   "outputs": [
    {
     "name": "stdout",
     "output_type": "stream",
     "text": [
      "TorchIO version: 0.18.78\n",
      "3.10.4\n"
     ]
    }
   ],
   "source": [
    "# Import modules\n",
    "\n",
    "import os, glob\n",
    "import numpy as np\n",
    "import torchio as tio\n",
    "\n",
    "print('TorchIO version:', tio.__version__)\n",
    "\n",
    "from platform import python_version\n",
    "print(python_version())"
   ]
  },
  {
   "cell_type": "code",
   "execution_count": 2,
   "id": "c347a92d",
   "metadata": {},
   "outputs": [],
   "source": [
    "dataset_dir = '/media/trojan/evo/3D-CT-Artery-Segmentation/data/data_new/data_original'"
   ]
  },
  {
   "cell_type": "code",
   "execution_count": 3,
   "id": "9552fb89",
   "metadata": {},
   "outputs": [
    {
     "name": "stdout",
     "output_type": "stream",
     "text": [
      "Dataset size: 44 training subjects\n"
     ]
    }
   ],
   "source": [
    "images_dir = os.path.join(dataset_dir, 'train/volumes')\n",
    "labels_dir = os.path.join(dataset_dir, 'train/masks')\n",
    "image_paths = sorted(glob.glob(images_dir + '/' + '*.nii.gz'))\n",
    "label_paths = sorted(glob.glob(labels_dir + '/' + '*.nii.gz'))\n",
    "assert len(image_paths) == len(label_paths)\n",
    "\n",
    "training_subjects = []\n",
    "for (image_path, label_path) in zip(image_paths, label_paths):\n",
    "    subject = tio.Subject(\n",
    "        image=tio.ScalarImage(image_path),\n",
    "        label=tio.LabelMap(label_path),\n",
    "    )\n",
    "    training_subjects.append(subject)\n",
    "training_dataset = tio.SubjectsDataset(training_subjects)\n",
    "print('Dataset size:', len(training_dataset), 'training subjects')"
   ]
  },
  {
   "cell_type": "markdown",
   "id": "3abb1191",
   "metadata": {},
   "source": [
    "Check all data. If size is different i.e. label is missing, then print the name of that volume."
   ]
  },
  {
   "cell_type": "code",
   "execution_count": 4,
   "id": "72d2e5f4",
   "metadata": {
    "scrolled": true
   },
   "outputs": [
    {
     "name": "stdout",
     "output_type": "stream",
     "text": [
      "Size is not correct.\n",
      "18.nii.gz\n",
      "[0 1 2 3]\n",
      "\n",
      "\n",
      "Size is not correct.\n",
      "6.nii.gz\n",
      "[0 1 2 3]\n",
      "\n",
      "\n"
     ]
    }
   ],
   "source": [
    "# Check issue masks\n",
    "issue_masks = []\n",
    "\n",
    "for label_path in label_paths:\n",
    "    label = tio.LabelMap(label_path)\n",
    "    unique_labels = np.unique(label.data)\n",
    "    #print(unique_labels.shape[0])\n",
    "    \n",
    "    # Check label sizes and save the issue masks\n",
    "    if unique_labels.shape[0] > 3:\n",
    "        print(\"Size is not correct.\")\n",
    "        print(label_path.split(\"/\")[-1])\n",
    "        print(unique_labels)\n",
    "        print('\\n')\n",
    "        issue_masks.append(label_path.split(\"/\")[-1])"
   ]
  },
  {
   "cell_type": "markdown",
   "id": "9047b692",
   "metadata": {},
   "source": [
    "# Extra class fix"
   ]
  },
  {
   "cell_type": "markdown",
   "id": "a8e63ce9",
   "metadata": {},
   "source": [
    "The `extra` label issue is because of separate label for left and right **facial artery**. I can fix it by combining them into one label.\n",
    "However I need to do it before apply `transform.Compose()`."
   ]
  },
  {
   "cell_type": "markdown",
   "id": "23dfd386",
   "metadata": {},
   "source": [
    "## Apply on training data"
   ]
  },
  {
   "cell_type": "code",
   "execution_count": 5,
   "id": "2ecebd75",
   "metadata": {},
   "outputs": [],
   "source": [
    "out_dir = '/media/trojan/evo/3D-CT-Artery-Segmentation/data/data_new/fixed_masks'"
   ]
  },
  {
   "cell_type": "code",
   "execution_count": 7,
   "id": "40f8c873",
   "metadata": {},
   "outputs": [
    {
     "name": "stdout",
     "output_type": "stream",
     "text": [
      "Before fix:  [0 1 2 3]\n",
      "After fix:  [0 1 2]\n",
      "Before fix:  [0 1 2 3]\n",
      "After fix:  [0 1 2]\n"
     ]
    }
   ],
   "source": [
    "for mask in issue_masks:\n",
    "    path = os.path.join(labels_dir, mask)\n",
    "    label = tio.LabelMap(path)\n",
    "    print(\"Before fix: \", np.unique(label.data))\n",
    "    label.data[label.data==3] = 2\n",
    "    print(\"After fix: \", np.unique(label.data))\n",
    "    label.save(os.path.join(out_dir, '{}.nii.gz'.format(mask)))"
   ]
  },
  {
   "cell_type": "markdown",
   "id": "347198a4",
   "metadata": {},
   "source": [
    "## Check Shapes"
   ]
  },
  {
   "cell_type": "code",
   "execution_count": 8,
   "id": "73e627b0",
   "metadata": {},
   "outputs": [
    {
     "name": "stdout",
     "output_type": "stream",
     "text": [
      "[0 1 2]\n",
      "[0 1 2]\n"
     ]
    }
   ],
   "source": [
    "for mask in glob.glob(out_dir + \"/*.nii.gz\"):\n",
    "    label = tio.LabelMap(mask)\n",
    "    unique_labels = np.unique(label.data)\n",
    "    print(unique_labels)"
   ]
  },
  {
   "cell_type": "code",
   "execution_count": null,
   "id": "22fc75af",
   "metadata": {},
   "outputs": [],
   "source": []
  }
 ],
 "metadata": {
  "kernelspec": {
   "display_name": "Python 3 (ipykernel)",
   "language": "python",
   "name": "python3"
  },
  "language_info": {
   "codemirror_mode": {
    "name": "ipython",
    "version": 3
   },
   "file_extension": ".py",
   "mimetype": "text/x-python",
   "name": "python",
   "nbconvert_exporter": "python",
   "pygments_lexer": "ipython3",
   "version": "3.10.4"
  }
 },
 "nbformat": 4,
 "nbformat_minor": 5
}
