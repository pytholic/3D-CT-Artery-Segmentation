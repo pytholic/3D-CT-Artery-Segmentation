{
 "cells": [
  {
   "cell_type": "code",
   "execution_count": 1,
   "id": "316a674d",
   "metadata": {},
   "outputs": [],
   "source": [
    "import os, glob\n",
    "import torchio as tio\n",
    "from tqdm.contrib import tzip\n",
    "import skimage.transform as sktrans\n",
    "import numpy as np"
   ]
  },
  {
   "cell_type": "code",
   "execution_count": 2,
   "id": "e8fed51d",
   "metadata": {},
   "outputs": [],
   "source": [
    "DATA_DIR = '/media/trojan/evo/3D-CT-Artery-Segmentation/data/data_new/data_splitted'\n",
    "train_dir = os.path.join(DATA_DIR, 'train')\n",
    "validation_dir = os.path.join(DATA_DIR, \"val\")\n",
    "\n",
    "train_vol_dir = os.path.join(train_dir, 'volumes')\n",
    "train_masks_dir = os.path.join(train_dir, 'masks')\n",
    "train_vol_paths = sorted(glob.glob(train_vol_dir + '/' + '*.nii.gz'))\n",
    "train_masks_paths = sorted(glob.glob(train_masks_dir + '/' + '*.nii.gz'))\n",
    "\n",
    "validation_vol_dir = os.path.join(validation_dir, 'volumes')\n",
    "validation_masks_dir = os.path.join(validation_dir, 'masks')\n",
    "validation_vol_paths = sorted(glob.glob(validation_vol_dir + '/' + '*.nii.gz'))\n",
    "validation_masks_paths = sorted(glob.glob(validation_masks_dir + '/' + '*.nii.gz'))"
   ]
  },
  {
   "cell_type": "code",
   "execution_count": 3,
   "id": "7588aa21",
   "metadata": {},
   "outputs": [],
   "source": [
    "# Define output paths\n",
    "OUT_DIR = '/media/trojan/evo/3D-CT-Artery-Segmentation/data/data_new/data_processed'\n",
    "out_train_vol_dir = os.path.join(OUT_DIR, 'train/volumes')\n",
    "out_train_mask_dir = os.path.join(OUT_DIR, 'train/masks')\n",
    "out_val_vol_dir = os.path.join(OUT_DIR, 'val/volumes')\n",
    "out_val_mask_dir = os.path.join(OUT_DIR, 'val/masks')"
   ]
  },
  {
   "cell_type": "markdown",
   "id": "6cc6cf5d",
   "metadata": {},
   "source": [
    "# Resample transform"
   ]
  },
  {
   "cell_type": "code",
   "execution_count": 4,
   "id": "36529ed3",
   "metadata": {},
   "outputs": [],
   "source": [
    "# Define transforms\n",
    "transform_spacing = tio.Resample(target=(0.4,0.4,0.5))\n",
    "transform_resize = tio.Resize(target_shape=(512,512,512))"
   ]
  },
  {
   "cell_type": "code",
   "execution_count": 5,
   "id": "97735ce1",
   "metadata": {},
   "outputs": [
    {
     "data": {
      "application/vnd.jupyter.widget-view+json": {
       "model_id": "36fe2a2ae4ea46fab8bb51aabe6d8492",
       "version_major": 2,
       "version_minor": 0
      },
      "text/plain": [
       "  0%|          | 0/37 [00:00<?, ?it/s]"
      ]
     },
     "metadata": {},
     "output_type": "display_data"
    },
    {
     "name": "stdout",
     "output_type": "stream",
     "text": [
      "(0.400390625, 0.400390625, 0.5) (0.400390625, 0.400390625, 0.5)\n",
      "(0.400390625, 0.400390625, 0.5) (0.400390625, 0.400390625, 0.5)\n",
      "(0.44921875, 0.44921875, 0.5) (0.44921875, 0.44921875, 0.5)\n",
      "(0.4296875, 0.4296875, 0.5) (0.4296875, 0.4296875, 0.5)\n",
      "(0.400390625, 0.400390625, 0.5) (0.400390625, 0.400390625, 0.5)\n",
      "(0.400390625, 0.400390625, 0.5) (0.400390625, 0.400390625, 0.5)\n",
      "(0.4296875, 0.4296875, 3.0) (0.4296875, 0.4296875, 3.0)\n",
      "(0.373046875, 0.373046875, 3.0) (0.373046875, 0.373046875, 3.0)\n",
      "(0.46875, 0.46875, 0.5) (0.46875, 0.46875, 0.5)\n",
      "(0.400390625, 0.400390625, 0.5) (0.400390625, 0.400390625, 0.5)\n",
      "(0.3515619933605194, 0.3515619933605194, 1.25) (0.3515619933605194, 0.3515619933605194, 1.25)\n",
      "(0.400390625, 0.400390625, 3.0) (0.400390625, 0.400390625, 3.0)\n",
      "(0.3515619933605194, 0.3515619933605194, 1.25) (1.0, 1.0, 1.0)\n",
      "(0.3515619933605194, 0.3515619933605194, 1.25) (1.0, 1.0, 1.0)\n",
      "(0.46875, 0.46875, 3.0) (1.0, 1.0, 1.0)\n",
      "(0.46484375, 0.46484375, 0.5) (1.0, 1.0, 1.0)\n",
      "(0.3515625, 0.3515625, 1.5) (1.0, 1.0, 1.0)\n",
      "(0.3515625, 0.3515625, 1.0) (1.0, 1.0, 1.0)\n",
      "(0.400390625, 0.400390625, 0.5) (0.400390625, 0.400390625, 0.5)\n",
      "(0.4296875, 0.4296875, 3.0) (1.0, 1.0, 1.0)\n",
      "(0.400390625, 0.400390625, 3.0) (1.0, 1.0, 1.0)\n",
      "(0.400390625, 0.400390625, 0.5) (1.0, 1.0, 1.0)\n",
      "(0.3515625, 0.3515625, 1.0) (1.0, 1.0, 1.0)\n",
      "(0.3515625, 0.3515625, 1.0) (1.0, 1.0, 1.0)\n",
      "(0.3515625, 0.3515625, 1.5) (1.0, 1.0, 1.0)\n",
      "(0.400390625, 0.400390625, 3.0) (1.0, 1.0, 1.0)\n",
      "(0.44921875, 0.44921875, 0.5) (1.0, 1.0, 1.0)\n",
      "(0.400390625, 0.400390625, 0.5) (0.400390625, 0.400390625, 0.5)\n",
      "(0.419921875, 0.419921875, 3.0) (1.0, 1.0, 1.0)\n",
      "(0.41015625, 0.41015625, 3.0) (1.0, 1.0, 1.0)\n",
      "(0.400390625, 0.400390625, 3.0) (1.0, 1.0, 1.0)\n",
      "(0.3515625, 0.3515625, 1.5) (1.0, 1.0, 1.0)\n",
      "(0.44140625, 0.44140625, 0.5) (1.0, 1.0, 1.0)\n",
      "(0.44921875, 0.44921875, 0.5) (0.44921875, 0.44921875, 0.5)\n",
      "(0.431640625, 0.431640625, 0.5) (0.431640625, 0.431640625, 0.5)\n",
      "(0.48828125, 0.48828125, 0.5) (0.48828125, 0.48828125, 0.5)\n",
      "(0.4296875, 0.4296875, 0.5) (0.4296875, 0.4296875, 0.5)\n"
     ]
    }
   ],
   "source": [
    "# Apply on training data\n",
    "for image_path,label_path in tzip(train_vol_paths, train_masks_paths):\n",
    "    subject = tio.Subject(\n",
    "        image=tio.ScalarImage(image_path),\n",
    "        label=tio.LabelMap(label_path),\n",
    "    )\n",
    "    print(subject.image.spacing, subject.label.spacing)\n",
    "#     output = transform_spacing(subject)\n",
    "#     output = transform_resize(output)\n",
    "#     name = image_path.split('/')[-1]\n",
    "#     output.image.save(os.path.join(out_train_vol_dir, f'{name}'))\n",
    "#     output.label.save(os.path.join(out_train_mask_dir, f'{name}'))"
   ]
  },
  {
   "cell_type": "code",
   "execution_count": null,
   "id": "ecef834a",
   "metadata": {},
   "outputs": [],
   "source": [
    "# Apply on validation data\n",
    "\n",
    "for image_path,label_path in tzip(validation_vol_paths, validation_masks_paths):\n",
    "    subject = tio.Subject(\n",
    "        image=tio.ScalarImage(image_path),\n",
    "        label=tio.LabelMap(label_path),\n",
    "    )\n",
    "    \n",
    "    output = transform_spacing(subject)\n",
    "    output = transform_size(output)\n",
    "    name = image_path.split('/')[-1]\n",
    "    output.image.save(os.path.join(out_val_vol_dir, f'{name}'))\n",
    "    output.label.save(os.path.join(out_val_mask_dir, f'{name}'))"
   ]
  }
 ],
 "metadata": {
  "kernelspec": {
   "display_name": "Python 3 (ipykernel)",
   "language": "python",
   "name": "python3"
  },
  "language_info": {
   "codemirror_mode": {
    "name": "ipython",
    "version": 3
   },
   "file_extension": ".py",
   "mimetype": "text/x-python",
   "name": "python",
   "nbconvert_exporter": "python",
   "pygments_lexer": "ipython3",
   "version": "3.10.4"
  }
 },
 "nbformat": 4,
 "nbformat_minor": 5
}
